{
 "cells": [
  {
   "cell_type": "code",
   "execution_count": 1,
   "metadata": {},
   "outputs": [],
   "source": [
    "# Pandas and numpy necessary to do basic data cleaning\n",
    "import pandas as pd\n",
    "import numpy as np\n",
    "import matplotlib.pyplot as plt\n",
    "import copy"
   ]
  },
  {
   "cell_type": "markdown",
   "metadata": {},
   "source": [
    "# Import and Clean Data"
   ]
  },
  {
   "cell_type": "code",
   "execution_count": 2,
   "metadata": {},
   "outputs": [],
   "source": [
    "def make_aer_data():\n",
    "    \n",
    "    # Import\n",
    "    df = pd.read_stata(\"./aer_data/aer_data.dta\")\n",
    "\n",
    "    # Clean up data types\n",
    "    df['year'] = df.year.dt.year\n",
    "    for x in ['year','fips','stfips']:\n",
    "        df[x] = df[x].astype(int)\n",
    "\n",
    "    # Filter data by year and remove the THREE BIGGEST CITIES WHY DO THEY DO THIS\n",
    "    df = df[df.year <= 1988]\n",
    "    df = df[~((df.stfips == 36) & (df.cofips == 61))] \n",
    "    df = df[~((df.stfips == 6) & (df.cofips == 37))]\n",
    "    df = df[~((df.stfips == 17) & (df.cofips == 31))]\n",
    "\n",
    "    # Make new variables related to urbanization\n",
    "    df_1960_pcturban = df.loc[df.year == 1960, ['fips','D_60pcturban_t']] \\\n",
    "                         .drop_duplicates('fips') \\\n",
    "                         .rename(columns={'D_60pcturban_t':'_urb'}) \\\n",
    "                         .fillna(0)\n",
    "    df = df.merge(df_1960_pcturban, how='left', on='fips')\n",
    "    df['Durb'] = pd.cut(x=df._urb, bins=[0,1,25,50,75,110], right=False, labels=[0,1,25,50,75])\n",
    "\n",
    "    # Make straight-up dummy variables\n",
    "    year_dummies   = pd.get_dummies(df.year, prefix=\"_Iyear\", drop_first=True)\n",
    "    Durb_dummies   = pd.get_dummies(df.Durb, prefix=\"_IDurb\", drop_first=True)\n",
    "    fips_dummies   = pd.get_dummies(df.fips, prefix=\"_Ifips\", drop_first=True)\n",
    "    stfips_dummies = pd.get_dummies(df.stfips, prefix=\"_Istfips\", drop_first=True)\n",
    "\n",
    "    # Make interaction dummies\n",
    "    for year in np.sort(df.year.unique()):\n",
    "        for Durb in np.sort(df.Durb.unique()):\n",
    "            if (f\"_Iyear_{year}\" in year_dummies.columns) & (f\"_IDurb_{Durb}\" in Durb_dummies.columns):\n",
    "                df[f\"_IyeaXDur_{year}_{Durb}\"] = year_dummies[f\"_Iyear_{year}\"]*Durb_dummies[f\"_IDurb_{Durb}\"]\n",
    "        for stfips in np.sort(df.stfips.unique()):\n",
    "            if (f\"_Iyear_{year}\" in year_dummies.columns) & (f\"_Istfips_{stfips}\" in stfips_dummies.columns):\n",
    "                df[f\"_IyeaXstf_{year}_{stfips}\"] = year_dummies[f\"_Iyear_{year}\"]*stfips_dummies[f\"_Istfips_{stfips}\"]\n",
    "    for fips in np.sort(df.fips.unique()):\n",
    "        df[f\"_IfipXyea_{fips}\"] = np.where((df['fips']) == fips, df['year'], 0)\n",
    "\n",
    "    # Make did1 dummies\n",
    "    for i,did1 in enumerate(np.sort(df.did1.unique())):\n",
    "        if did1 != -1:\n",
    "            df[f\"_DDdid1_{i+1}\"] = np.where(df['did1'] == did1, 1, 0)\n",
    "\n",
    "    # Make exp1 dummies\n",
    "    for i,exp1 in enumerate(np.sort(df.exp1.unique())):\n",
    "        if exp1 != -1:\n",
    "            df[f\"_Texp1_{i+1}\"] = np.where(df['exp1'] == exp1, 1, 0)\n",
    "\n",
    "    # Make exp2 dummies\n",
    "    for i,exp2 in enumerate(np.sort(df.exp2.unique())):\n",
    "        if exp2 != -1:\n",
    "            df[f\"_Texp2_{i+1}\"] = np.where(df['exp2'] == exp2, 1, 0)\n",
    "\n",
    "    # Add on year and fips dummies\n",
    "    df = pd.concat([df,year_dummies],axis=1)\n",
    "    df = pd.concat([df,fips_dummies],axis=1)\n",
    "\n",
    "    # Drop missing response values\n",
    "    df = df[~df['amr'].isna()]\n",
    "\n",
    "    # Add constant\n",
    "    df['_const']  = 1\n",
    "    \n",
    "    return df"
   ]
  },
  {
   "cell_type": "code",
   "execution_count": 3,
   "metadata": {},
   "outputs": [],
   "source": [
    "df = make_aer_data()"
   ]
  },
  {
   "cell_type": "markdown",
   "metadata": {},
   "source": [
    "# Q8(a) - Replication of Table 2, Column 1, Panel A"
   ]
  },
  {
   "cell_type": "markdown",
   "metadata": {},
   "source": [
    "### Regression Coefficient and SE Estimates"
   ]
  },
  {
   "cell_type": "code",
   "execution_count": 4,
   "metadata": {},
   "outputs": [],
   "source": [
    "def get_XY_arrays(df,X_cols,Y_var,weight_var,clust_var,fe=True):\n",
    "        \n",
    "    # Remove fixed effect means\n",
    "    fe_df = copy.deepcopy(df)        \n",
    "\n",
    "    if fe==True:\n",
    "        grouped_df = df.groupby(clust_var)\n",
    "        for x_col in X_cols:\n",
    "            fe_df[x_col] = df[x_col]-grouped_df[x_col].transform('mean')   \n",
    "        fe_df[Y_var] = df[Y_var]-grouped_df[Y_var].transform('mean')   \n",
    "        \n",
    "    # Make arrays \n",
    "    Y      = fe_df[Y_var].to_numpy()[:,None]\n",
    "    X      = fe_df[X_cols].to_numpy()\n",
    "    weight = fe_df[weight_var].to_numpy()[:,None]\n",
    "    N      = X.shape[0]\n",
    "    K      = X.shape[1]\n",
    "\n",
    "    return Y,X,weight,N,K,fe_df"
   ]
  },
  {
   "cell_type": "code",
   "execution_count": 5,
   "metadata": {},
   "outputs": [],
   "source": [
    "def run_aer_regression(df,Y,X,weight,N,K,X_cols,Y_var,weight_var):\n",
    "    \n",
    "    # Get beta value\n",
    "    beta = np.linalg.inv(np.multiply(X,weight).T @ X) @ np.multiply(X,weight).T @ Y\n",
    "    \n",
    "    # Build the 'meat' of the cluster sandwich SE estimator\n",
    "    clust_cov_sum = np.zeros((K,K))\n",
    "    for clust in np.sort(df[clust_var].unique()):\n",
    "\n",
    "        # Define data just from cluster\n",
    "        df_clust     = df[df[clust_var] == clust]\n",
    "        X_clust      = df_clust[X_cols].to_numpy()\n",
    "        Y_clust      = df_clust[Y_var].to_numpy()[:,None]\n",
    "        weight_clust = df_clust[weight_var].to_numpy()[:,None]\n",
    "\n",
    "        # Do weighted cluster robust SE formula\n",
    "        u_j  = np.multiply((Y_clust - X_clust @ beta), X_clust)\n",
    "        wu_j = np.multiply(weight_clust, u_j)\n",
    "        clust_sum = np.sum(wu_j, axis=0)[None,:]\n",
    "        clust_cov = clust_sum.T @ clust_sum\n",
    "\n",
    "        # Add to overall \n",
    "        clust_cov_sum += clust_cov\n",
    "\n",
    "    # Get (X'X)^(-1): the 'bread' of the sandwich\n",
    "    vcov = np.linalg.inv(np.multiply(X,weight).T @ X)\n",
    "\n",
    "    # Finite-sample correction\n",
    "    N_weight= weight.sum()\n",
    "    n_clust = df[clust_var].unique().shape[0]\n",
    "    qc      = (n_clust/(n_clust-1))*((N_weight-1)/(N_weight-K))\n",
    "\n",
    "    # Get standard errors of betas\n",
    "    beta_SE = np.sqrt(np.diag(qc * vcov @ clust_cov_sum @ vcov))\n",
    "    \n",
    "    return beta,beta_SE"
   ]
  },
  {
   "cell_type": "code",
   "execution_count": 6,
   "metadata": {},
   "outputs": [],
   "source": [
    "# Function for getting stars from z-scores\n",
    "def get_stars(est,est_SE):\n",
    "    est = est.ravel()\n",
    "    est_SE = est_SE.ravel()\n",
    "    stars_all = []\n",
    "    for i in range(len(est)):    \n",
    "        stars   = \"\"\n",
    "        esti    = est[i]\n",
    "        est_SEi = est_SE[i]\n",
    "        Z       = esti/est_SEi\n",
    "        if abs(Z) > 1.645:\n",
    "            stars = stars+\"*\"\n",
    "        if abs(Z) > 1.959:\n",
    "            stars = stars+\"*\"\n",
    "        if abs(Z) > 2.576:\n",
    "            stars = stars+\"*\"\n",
    "        stars_all.append(stars)\n",
    "    return stars_all"
   ]
  },
  {
   "cell_type": "code",
   "execution_count": 7,
   "metadata": {},
   "outputs": [],
   "source": [
    "# Define covariates to use\n",
    "_Ifips_cols   = [col for col in df if col.startswith('_Ifips')]\n",
    "_Iyear_cols   = [col for col in df if col.startswith('_Iyear')]\n",
    "_IyeaXDu_cols = [col for col in df if col.startswith('_IyeaXDu')]\n",
    "_DD_cols      = [col for col in df if col.startswith('_DD')]\n",
    "X_cols        = _Iyear_cols+_IyeaXDu_cols+_DD_cols \n",
    "fe_cols       = _Ifips_cols\n",
    "Y_var         = 'amr'\n",
    "weight_var    = 'popwt'\n",
    "clust_var     = 'fips'\n",
    "\n",
    "Y,X,weight,N,K,fe_df = get_XY_arrays(df, X_cols, Y_var, weight_var, clust_var)"
   ]
  },
  {
   "cell_type": "code",
   "execution_count": 8,
   "metadata": {},
   "outputs": [],
   "source": [
    "beta,beta_SE = run_aer_regression(fe_df, Y,X,weight, N, K, X_cols, Y_var, weight_var)\n",
    "beta_stars   = get_stars(beta, beta_SE)"
   ]
  },
  {
   "cell_type": "markdown",
   "metadata": {},
   "source": [
    "### Output Results to Latex"
   ]
  },
  {
   "cell_type": "code",
   "execution_count": 9,
   "metadata": {},
   "outputs": [],
   "source": [
    "beta_df = pd.DataFrame.from_dict({\"Variable\":X_cols,\n",
    "                                  \"Coefficient\":[str(np.round(beta.ravel()[i],3))+beta_stars[i] \n",
    "                                                 for i in range(beta.shape[0])],\n",
    "                                  \"Standard Error\":np.round(beta_SE,3)})\n",
    "beta_df = beta_df[(beta_df['Variable'] == '_DDdid1_2') |\n",
    "                  (beta_df['Variable'] == '_DDdid1_4') |\n",
    "                  (beta_df['Variable'] == '_DDdid1_5') | \n",
    "                  (beta_df['Variable'] == '_DDdid1_6')]\n",
    "beta_df[\"Variable\"] = [\"Years -6 to -2\",\"Years 0 to 4\",\"Years 5 to 9\",\"Years 10 to 14\"]\n",
    "beta_df.to_latex(\"./q8_output/table2_col1_panelA_replication.tex\", index=False)"
   ]
  },
  {
   "cell_type": "code",
   "execution_count": 10,
   "metadata": {},
   "outputs": [
    {
     "data": {
      "text/html": [
       "<div>\n",
       "<style scoped>\n",
       "    .dataframe tbody tr th:only-of-type {\n",
       "        vertical-align: middle;\n",
       "    }\n",
       "\n",
       "    .dataframe tbody tr th {\n",
       "        vertical-align: top;\n",
       "    }\n",
       "\n",
       "    .dataframe thead th {\n",
       "        text-align: right;\n",
       "    }\n",
       "</style>\n",
       "<table border=\"1\" class=\"dataframe\">\n",
       "  <thead>\n",
       "    <tr style=\"text-align: right;\">\n",
       "      <th></th>\n",
       "      <th>Variable</th>\n",
       "      <th>Coefficient</th>\n",
       "      <th>Standard Error</th>\n",
       "    </tr>\n",
       "  </thead>\n",
       "  <tbody>\n",
       "    <tr>\n",
       "      <th>146</th>\n",
       "      <td>Years -6 to -2</td>\n",
       "      <td>0.034</td>\n",
       "      <td>2.844</td>\n",
       "    </tr>\n",
       "    <tr>\n",
       "      <th>147</th>\n",
       "      <td>Years 0 to 4</td>\n",
       "      <td>-5.636</td>\n",
       "      <td>3.540</td>\n",
       "    </tr>\n",
       "    <tr>\n",
       "      <th>148</th>\n",
       "      <td>Years 5 to 9</td>\n",
       "      <td>-12.045***</td>\n",
       "      <td>4.569</td>\n",
       "    </tr>\n",
       "    <tr>\n",
       "      <th>149</th>\n",
       "      <td>Years 10 to 14</td>\n",
       "      <td>-9.384*</td>\n",
       "      <td>5.639</td>\n",
       "    </tr>\n",
       "  </tbody>\n",
       "</table>\n",
       "</div>"
      ],
      "text/plain": [
       "           Variable Coefficient  Standard Error\n",
       "146  Years -6 to -2       0.034           2.844\n",
       "147    Years 0 to 4      -5.636           3.540\n",
       "148    Years 5 to 9  -12.045***           4.569\n",
       "149  Years 10 to 14     -9.384*           5.639"
      ]
     },
     "execution_count": 10,
     "metadata": {},
     "output_type": "execute_result"
    }
   ],
   "source": [
    "beta_df"
   ]
  },
  {
   "cell_type": "markdown",
   "metadata": {},
   "source": [
    "# Q8(c) - Simpler Specification of Table 2, Column 1, Panel A"
   ]
  },
  {
   "cell_type": "markdown",
   "metadata": {},
   "source": [
    "### Run Regression"
   ]
  },
  {
   "cell_type": "code",
   "execution_count": 11,
   "metadata": {},
   "outputs": [],
   "source": [
    "# Define covariates to use - this time without year-urban interaction FEs\n",
    "X_colsC = _Iyear_cols+_DD_cols \n",
    "\n",
    "YC,XC,weightC,NC,KC,fe_dfC = get_XY_arrays(df, X_colsC, Y_var, weight_var, clust_var)"
   ]
  },
  {
   "cell_type": "code",
   "execution_count": 12,
   "metadata": {},
   "outputs": [],
   "source": [
    "betaC,beta_SEC = run_aer_regression(fe_dfC, YC, XC, weightC, NC, KC, X_colsC, Y_var, weight_var)\n",
    "beta_starsC    = get_stars(betaC, beta_SEC)"
   ]
  },
  {
   "cell_type": "markdown",
   "metadata": {},
   "source": [
    "### Output Results to Latex"
   ]
  },
  {
   "cell_type": "code",
   "execution_count": 13,
   "metadata": {},
   "outputs": [],
   "source": [
    "beta_dfC = pd.DataFrame.from_dict({\"Variable\":X_colsC,\n",
    "                                   \"Coefficient\":[str(np.round(betaC.ravel()[i],3))+beta_starsC[i] \n",
    "                                                  for i in range(betaC.shape[0])],\n",
    "                                   \"Standard Error\":np.round(beta_SEC,3)})\n",
    "beta_dfC = beta_dfC[(beta_dfC['Variable'] == '_DDdid1_2') |\n",
    "                    (beta_dfC['Variable'] == '_DDdid1_4') |\n",
    "                    (beta_dfC['Variable'] == '_DDdid1_5') | \n",
    "                    (beta_dfC['Variable'] == '_DDdid1_6')]\n",
    "beta_dfC[\"Variable\"] = [\"Years -6 to -2\",\"Years 0 to 4\",\"Years 5 to 9\",\"Years 10 to 14\"]\n",
    "beta_dfC.to_latex(\"./q8_output/q8c_table.tex\", index=False)"
   ]
  },
  {
   "cell_type": "code",
   "execution_count": 14,
   "metadata": {},
   "outputs": [
    {
     "data": {
      "text/html": [
       "<div>\n",
       "<style scoped>\n",
       "    .dataframe tbody tr th:only-of-type {\n",
       "        vertical-align: middle;\n",
       "    }\n",
       "\n",
       "    .dataframe tbody tr th {\n",
       "        vertical-align: top;\n",
       "    }\n",
       "\n",
       "    .dataframe thead th {\n",
       "        text-align: right;\n",
       "    }\n",
       "</style>\n",
       "<table border=\"1\" class=\"dataframe\">\n",
       "  <thead>\n",
       "    <tr style=\"text-align: right;\">\n",
       "      <th></th>\n",
       "      <th>Variable</th>\n",
       "      <th>Coefficient</th>\n",
       "      <th>Standard Error</th>\n",
       "    </tr>\n",
       "  </thead>\n",
       "  <tbody>\n",
       "    <tr>\n",
       "      <th>30</th>\n",
       "      <td>Years -6 to -2</td>\n",
       "      <td>2.49</td>\n",
       "      <td>2.829</td>\n",
       "    </tr>\n",
       "    <tr>\n",
       "      <th>31</th>\n",
       "      <td>Years 0 to 4</td>\n",
       "      <td>-6.42*</td>\n",
       "      <td>3.460</td>\n",
       "    </tr>\n",
       "    <tr>\n",
       "      <th>32</th>\n",
       "      <td>Years 5 to 9</td>\n",
       "      <td>-10.022**</td>\n",
       "      <td>4.321</td>\n",
       "    </tr>\n",
       "    <tr>\n",
       "      <th>33</th>\n",
       "      <td>Years 10 to 14</td>\n",
       "      <td>-2.651</td>\n",
       "      <td>5.087</td>\n",
       "    </tr>\n",
       "  </tbody>\n",
       "</table>\n",
       "</div>"
      ],
      "text/plain": [
       "          Variable Coefficient  Standard Error\n",
       "30  Years -6 to -2        2.49           2.829\n",
       "31    Years 0 to 4      -6.42*           3.460\n",
       "32    Years 5 to 9   -10.022**           4.321\n",
       "33  Years 10 to 14      -2.651           5.087"
      ]
     },
     "execution_count": 14,
     "metadata": {},
     "output_type": "execute_result"
    }
   ],
   "source": [
    "beta_dfC"
   ]
  },
  {
   "cell_type": "markdown",
   "metadata": {},
   "source": [
    "# Q8(d) - Alternate Versions of Figure 5"
   ]
  },
  {
   "cell_type": "markdown",
   "metadata": {},
   "source": [
    "### Run Regressions"
   ]
  },
  {
   "cell_type": "code",
   "execution_count": 15,
   "metadata": {},
   "outputs": [],
   "source": [
    "# Define covariates to use - this time without year-urban interaction FEs\n",
    "_Texp1_cols = [col for col in df if col.startswith('_Texp1')]\n",
    "_Texp2_cols = [col for col in df if col.startswith('_Texp2')]\n",
    "X_colsD1a   = _Iyear_cols+_IyeaXDu_cols+_Texp1_cols\n",
    "X_colsD1b   = _Iyear_cols+_IyeaXDu_cols+_Texp2_cols\n",
    "X_colsD2a   = _Iyear_cols+_Texp1_cols\n",
    "X_colsD2b   = _Iyear_cols+_Texp2_cols\n",
    "\n",
    "# Get matrices for running regressions\n",
    "YD1a,XD1a,weightD1a,ND1a,KD1a,fe_dfD1a = get_XY_arrays(df,  X_colsD1a, Y_var, weight_var, clust_var)\n",
    "YD1b,XD1b,weightD1b,ND1b,KD1b,fe_dfD1b = get_XY_arrays(df,  X_colsD1b, Y_var, weight_var, clust_var)\n",
    "YD2a,XD2a,weightD2a,ND2a,KD2a,fe_dfD2a = get_XY_arrays(df,  X_colsD2a, Y_var, weight_var, clust_var)\n",
    "YD2b,XD2b,weightD2b,ND2b,KD2b,fe_dfD2b = get_XY_arrays(df,  X_colsD2b, Y_var, weight_var, clust_var)"
   ]
  },
  {
   "cell_type": "code",
   "execution_count": 16,
   "metadata": {},
   "outputs": [],
   "source": [
    "# Run regressions\n",
    "betaD1a,beta_SED1a = run_aer_regression(fe_dfD1a, YD1a, XD1a, weightD1a, ND1a, KD1a, X_colsD1a, Y_var, weight_var)\n",
    "betaD1b,beta_SED1b = run_aer_regression(fe_dfD1b, YD1b, XD1b, weightD1b, ND1b, KD1b, X_colsD1b, Y_var, weight_var)\n",
    "betaD2a,beta_SED2a = run_aer_regression(fe_dfD2a, YD2a, XD2a, weightD2a, ND2a, KD2a, X_colsD2a, Y_var, weight_var)\n",
    "betaD2b,beta_SED2b = run_aer_regression(fe_dfD2b, YD2b, XD2b, weightD2b, ND2b, KD2b, X_colsD2b, Y_var, weight_var)"
   ]
  },
  {
   "cell_type": "markdown",
   "metadata": {},
   "source": [
    "### Format Results for Graphing"
   ]
  },
  {
   "cell_type": "code",
   "execution_count": 17,
   "metadata": {},
   "outputs": [],
   "source": [
    "# Make dataframe of coefs and standard errors\n",
    "beta_dfD1a = pd.DataFrame.from_dict({\"Variable\":X_colsD1a,\n",
    "                                     \"Coefficient\":np.round(betaD1a.ravel(),4),\n",
    "                                     \"Standard Error\":np.round(beta_SED1a,4)})\n",
    "beta_dfD1b = pd.DataFrame.from_dict({\"Variable\":X_colsD1b,\n",
    "                                     \"Coefficient\":np.round(betaD1b.ravel(),4),\n",
    "                                     \"Standard Error\":np.round(beta_SED1b,4),})\n",
    "beta_dfD2a = pd.DataFrame.from_dict({\"Variable\":X_colsD2a,\n",
    "                                     \"Coefficient\":np.round(betaD2a.ravel(),4),\n",
    "                                     \"Standard Error\":np.round(beta_SED2a,4)})\n",
    "beta_dfD2b = pd.DataFrame.from_dict({\"Variable\":X_colsD2b,\n",
    "                                     \"Coefficient\":np.round(betaD2b.ravel(),4),\n",
    "                                     \"Standard Error\":np.round(beta_SED2b,4),})\n",
    "\n",
    "beta_dfD1a = beta_dfD1a[beta_dfD1a['Variable'].str.contains('_Texp')]\n",
    "beta_dfD1b = beta_dfD1b[beta_dfD1b['Variable'].str.contains('_Texp')]\n",
    "beta_dfD2a = beta_dfD2a[beta_dfD2a['Variable'].str.contains('_Texp')]\n",
    "beta_dfD2b = beta_dfD2b[beta_dfD2b['Variable'].str.contains('_Texp')]\n",
    "\n",
    "# Force _Texp1_7 to be 0\n",
    "newrowa    = pd.DataFrame({'Variable':['_Texp1_7'],'Coefficient':[0.0],'Standard Error':[np.nan]})\n",
    "newrowb    = pd.DataFrame({'Variable':['_Texp2_7'],'Coefficient':[0.0],'Standard Error':[np.nan]})\n",
    "newrowc    = pd.DataFrame({'Variable':['_Texp3_7'],'Coefficient':[0.0],'Standard Error':[np.nan]})\n",
    "beta_dfD1a = pd.concat((beta_dfD1a,newrowa))\n",
    "beta_dfD2a = pd.concat((beta_dfD2a,newrowa))\n",
    "beta_dfD1b = pd.concat((beta_dfD1b,newrowb))\n",
    "beta_dfD2b = pd.concat((beta_dfD2b,newrowb))\n",
    "\n",
    "# Make time variable for graphs\n",
    "beta_dfD1a['Time'] = beta_dfD1a['Variable'].str.extract(r'_([0-9]+)$').astype(int)\n",
    "beta_dfD2a['Time'] = beta_dfD2a['Variable'].str.extract(r'_([0-9]+)$').astype(int)\n",
    "beta_dfD1b['Time'] = beta_dfD1b['Variable'].str.extract(r'_([0-9]+)$').astype(int)\n",
    "beta_dfD2b['Time'] = beta_dfD2b['Variable'].str.extract(r'_([0-9]+)$').astype(int)\n",
    "\n",
    "beta_dfD1a = beta_dfD1a.sort_values('Time').reset_index(drop=True)\n",
    "beta_dfD2a = beta_dfD2a.sort_values('Time').reset_index(drop=True)\n",
    "beta_dfD1b = beta_dfD1b.sort_values('Time').reset_index(drop=True)\n",
    "beta_dfD2b = beta_dfD2b.sort_values('Time').reset_index(drop=True)\n",
    "\n",
    "beta_dfD1a['Time'] = beta_dfD1a['Time']-8\n",
    "beta_dfD2a['Time'] = beta_dfD2a['Time']-8\n",
    "beta_dfD1b['Time'] = beta_dfD1b['Time']-8\n",
    "beta_dfD2b['Time'] = beta_dfD2b['Time']-8\n",
    "\n",
    "# Get upper and lower confidence bounds\n",
    "beta_dfD1a['Upper CI'] = beta_dfD1a['Coefficient']+1.96*beta_dfD1a['Standard Error']\n",
    "beta_dfD1a['Lower CI'] = beta_dfD1a['Coefficient']-1.96*beta_dfD1a['Standard Error']\n",
    "beta_dfD2a['Upper CI'] = beta_dfD2a['Coefficient']+1.96*beta_dfD2a['Standard Error']\n",
    "beta_dfD2a['Lower CI'] = beta_dfD2a['Coefficient']-1.96*beta_dfD2a['Standard Error']"
   ]
  },
  {
   "cell_type": "markdown",
   "metadata": {},
   "source": [
    "### Make Graph"
   ]
  },
  {
   "cell_type": "code",
   "execution_count": 18,
   "metadata": {
    "scrolled": false
   },
   "outputs": [
    {
     "data": {
      "image/png": "[encoded data removed]",
      "text/plain": [
       "<Figure size 648x1008 with 2 Axes>"
      ]
     },
     "metadata": {
      "needs_background": "light"
     },
     "output_type": "display_data"
    }
   ],
   "source": [
    "fig,ax = plt.subplots(nrows=2,ncols=1,figsize=(9,14))\n",
    "ax     = ax.flatten()\n",
    "\n",
    "# Formatting stuff\n",
    "plt.subplots_adjust(top=0.92)\n",
    "ax[0].spines['top'].set_visible(False)\n",
    "ax[0].spines['right'].set_visible(False)\n",
    "ax[1].spines['top'].set_visible(False)\n",
    "ax[1].spines['right'].set_visible(False)\n",
    "\n",
    "# Plot 1 main stuff\n",
    "ax[0].plot(beta_dfD1a['Time'], beta_dfD1a['Coefficient'], color='blue')\n",
    "ax[0].scatter(beta_dfD1a['Time'], beta_dfD1a['Coefficient'], color='blue')\n",
    "ax[0].plot(beta_dfD1a['Time'], beta_dfD1a['Upper CI'], linestyle='dashed', color='blue')\n",
    "ax[0].plot(beta_dfD1a['Time'], beta_dfD1a['Lower CI'], linestyle='dashed', color='blue')\n",
    "ax[0].plot(beta_dfD1b['Time'], beta_dfD1b['Coefficient'], color='red')\n",
    "ax[0].scatter(beta_dfD1b['Time'], beta_dfD1b['Coefficient'], color='red')\n",
    "\n",
    "# Plot 2 main stuff\n",
    "ax[1].plot(beta_dfD2a['Time'], beta_dfD2a['Coefficient'], color='blue')\n",
    "ax[1].scatter(beta_dfD2a['Time'], beta_dfD2a['Coefficient'], color='blue')\n",
    "ax[1].plot(beta_dfD2a['Time'], beta_dfD2a['Upper CI'], linestyle='dashed', color='blue')\n",
    "ax[1].plot(beta_dfD2a['Time'], beta_dfD2a['Lower CI'], linestyle='dashed', color='blue')\n",
    "ax[1].plot(beta_dfD2b['Time'], beta_dfD2b['Coefficient'], color='red')\n",
    "ax[1].scatter(beta_dfD2b['Time'], beta_dfD2b['Coefficient'], color='red')\n",
    "\n",
    "# Vertical/horizontal lines\n",
    "ax[0].axhline(y=0, color='black', linestyle='solid', alpha=0.8)\n",
    "ax[0].axvline(x=0, color='black', linestyle='solid', alpha=0.8)\n",
    "ax[1].axhline(y=0, color='black', linestyle='solid', alpha=0.8)\n",
    "ax[1].axvline(x=0, color='black', linestyle='solid', alpha=0.8)\n",
    "\n",
    "# Axis mess\n",
    "ax[0].set_xticks(np.arange(-7,16,1))\n",
    "ax[0].set_yticks(np.arange(-30,22,4))\n",
    "ax[0].set_xlabel(\"Years Since CHC Establishment\", size=14)\n",
    "ax[0].set_ylabel(\"Effect on Age-Adjusted Mortality Rate\", size=14)\n",
    "ax[1].set_xticks(np.arange(-7,16,1))\n",
    "ax[1].set_yticks(np.arange(-30,22,4))\n",
    "ax[1].set_xlabel(\"Years Since CHC Establishment\", size=14)\n",
    "ax[1].set_ylabel(\"Effect on Age-Adjusted Mortality Rate\", size=14)\n",
    "\n",
    "# Titles\n",
    "ax[0].set_title(\"Including Urban-Year Interaction FEs\", size=17)\n",
    "ax[1].set_title(\"\\n\\nExcluding Urban-Year Interaction FEs\", size=17)\n",
    "plt.suptitle(\"Figure 5 Under Alternate Specifications\", size=25)\n",
    "\n",
    "plt.savefig(\"./q8_output/figure5_alt.png\")\n",
    "plt.show()"
   ]
  },
  {
   "cell_type": "markdown",
   "metadata": {},
   "source": [
    "# Q8(e) - Direct Approach"
   ]
  },
  {
   "cell_type": "code",
   "execution_count": 19,
   "metadata": {},
   "outputs": [],
   "source": [
    "def run_simple_regression(X,Y,weight):\n",
    "    beta = np.linalg.inv(np.multiply(X,weight).T @ X) @ np.multiply(X,weight).T @ Y\n",
    "    return beta"
   ]
  },
  {
   "cell_type": "code",
   "execution_count": 36,
   "metadata": {
    "scrolled": true
   },
   "outputs": [],
   "source": [
    "def direct_approach(df):\n",
    "    \n",
    "    # Start with earliest cohort and iterate\n",
    "    att_dict      = {}\n",
    "    rel_diff_dict = {}\n",
    "    for e1 in df.cohort.unique():\n",
    "        \n",
    "        # Skip never-treated\n",
    "        if e1 >= 2000:\n",
    "            continue\n",
    "\n",
    "        # Only loop through years for cohort if they exist\n",
    "        cohort_size = df[df.cohort == e1]['fips'].unique().shape[0]\n",
    "        for t1 in df.year.unique():\n",
    "\n",
    "            # Subset to just those necessary for regression\n",
    "            df_kit1 = copy.deepcopy(df[ \n",
    "                 (((df['year'] < e1) | (df['year'] == t1)) & ((df['cohort'] == e1) | (df['cohort'] > t1))) == 1\n",
    "            ])\n",
    "            \n",
    "            if df_kit1.shape[0] > 0:\n",
    "\n",
    "                # Make indicator variables for regression\n",
    "                XE      = np.zeros((df_kit1.shape[0],4))\n",
    "                XE[:,0] = np.ones(df_kit1.shape[0])\n",
    "                XE[:,1] = np.array((df_kit1['year'] == t1).astype(int))\n",
    "                XE[:,2] = np.array((df_kit1['cohort'] == e1).astype(int))\n",
    "                XE[:,3] = np.array(((df_kit1['year'] == t1) & (df_kit1['cohort'] == e1)).astype(int))\n",
    "                YE      = np.array(df_kit1[Y_var])[:,None]\n",
    "                weightE = np.array(df_kit1[weight_var])[:,None]\n",
    "\n",
    "                # Get ATT_t(e)\n",
    "                att = run_simple_regression(XE,YE,weightE)[-1,0]\n",
    "                att_dict[(e1,t1)] = (att,cohort_size)\n",
    "\n",
    "                # Relative time effect\n",
    "                rel_time = t1-e1\n",
    "                try:\n",
    "                    rel_diff_dict[rel_time].append((att,cohort_size))\n",
    "                except:\n",
    "                    rel_diff_dict[rel_time] = [(att,cohort_size)]\n",
    "\n",
    "    # Aggregate!\n",
    "    results = np.zeros((len(rel_diff_dict),3))\n",
    "    for j,item in enumerate(rel_diff_dict):\n",
    "        atts    = np.array([i[0] for i in rel_diff_dict[item]])\n",
    "        weights = np.array([i[1] for i in rel_diff_dict[item]])\n",
    "\n",
    "        results[j,0] = int(item)\n",
    "        results[j,1] = np.average(atts, weights=weights)\n",
    "        results[j,2] = np.sum(weights)\n",
    "\n",
    "    # Make dataframe from results\n",
    "    full_results_df = pd.DataFrame(results,columns=['RT','ATT','N']).sort_values('RT')\n",
    "\n",
    "    # Further aggregation for Figure 5\n",
    "    fig5_results_df       = full_results_df.copy()\n",
    "    fig5_results_df['RT'] = np.where(fig5_results_df.RT <= -7, -7, fig5_results_df.RT)\n",
    "    fig5_results_df['RT'] = np.where(fig5_results_df.RT >= 15, 15, fig5_results_df.RT)\n",
    "    wm = lambda x: np.average(x, weights=fig5_results_df.loc[x.index,\"N\"])\n",
    "    fig5_results_df       = fig5_results_df.groupby('RT').agg(ATT=(\"ATT\",wm),N=(\"N\",\"sum\")).reset_index()\n",
    "    \n",
    "    # Further aggregation for Table 2\n",
    "    tab2_results_df       = full_results_df.copy()\n",
    "    tab2_results_df['RT'] = np.where(tab2_results_df.RT <= -7, -7, tab2_results_df.RT)\n",
    "    tab2_results_df['RT'] = np.where(tab2_results_df.RT >= 15, 15, tab2_results_df.RT)\n",
    "    tab2_results_df['RT'] = np.where((tab2_results_df.RT >= -6) & (tab2_results_df.RT <= -2), -6, tab2_results_df.RT)\n",
    "    tab2_results_df['RT'] = np.where((tab2_results_df.RT >= 0) & (tab2_results_df.RT <= 4), 0, tab2_results_df.RT)\n",
    "    tab2_results_df['RT'] = np.where((tab2_results_df.RT >= 5) & (tab2_results_df.RT <= 9), 9, tab2_results_df.RT)\n",
    "    tab2_results_df['RT'] = np.where((tab2_results_df.RT >= 10) & (tab2_results_df.RT <= 14), 10, tab2_results_df.RT)\n",
    "    tab2_results_df['RT'] = np.where(tab2_results_df.RT >= 15, 15, tab2_results_df.RT)\n",
    "    wm = lambda x: np.average(x, weights=tab2_results_df.loc[x.index,\"N\"])\n",
    "    tab2_results_df       = tab2_results_df.groupby('RT').agg(ATT=(\"ATT\",wm),N=(\"N\",\"sum\")).reset_index()\n",
    "\n",
    "    return fig5_results_df,tab2_results_df"
   ]
  },
  {
   "cell_type": "code",
   "execution_count": 37,
   "metadata": {},
   "outputs": [],
   "source": [
    "def block_bootstrap_SEs_direct(df, N_boots):\n",
    "    \n",
    "    # Get list of fips\n",
    "    fips_list = df.fips.unique()\n",
    "    N_fips    = fips_list.shape[0]\n",
    "\n",
    "    effects_f5_list = [] \n",
    "    effects_t2_list = [] \n",
    "    for i in range(N_boots):\n",
    "        \n",
    "        # Resample at the county leve\n",
    "        df_sample = df.copy()\n",
    "        df_sample = df.set_index('fips').loc[np.random.choice(fips_list, N_fips, replace=True)]\n",
    "        \n",
    "        # Get results dataframe\n",
    "        res = direct_approach(df_sample.reset_index())\n",
    "        effects_f5_list.append(res[0])\n",
    "        effects_t2_list.append(res[1])\n",
    "    \n",
    "    # Aggregate nicely\n",
    "    bootstraps_f5 = np.zeros((effects_f5_list[0].shape[0],\n",
    "                              effects_f5_list[0].shape[1],\n",
    "                              len(effects_f5_list)))\n",
    "    for i in range(len(effects_f5_list)):\n",
    "        bootstraps_f5[:,:,i] = np.array(effects_f5_list[i])\n",
    "    bootstraps_t2 = np.zeros((effects_t2_list[0].shape[0],\n",
    "                              effects_t2_list[0].shape[1],\n",
    "                              len(effects_t2_list)))\n",
    "    for i in range(len(effects_t2_list)):\n",
    "        bootstraps_t2[:,:,i] = np.array(effects_t2_list[i])\n",
    "    \n",
    "    # Return standard deviation of estimators\n",
    "    return np.std(bootstraps_f5, axis=2)[:,1],np.std(bootstraps_t2, axis=2)[:,1]"
   ]
  },
  {
   "cell_type": "code",
   "execution_count": 38,
   "metadata": {},
   "outputs": [],
   "source": [
    "# Fix never treated to have cohort = infinity\n",
    "df['cohort'] = np.where(df['chc_year_exp'].isna(), np.inf, df['chc_year_exp'])\n",
    "mydf = copy.deepcopy(df[['fips','year','cohort','amr','popwt']])"
   ]
  },
  {
   "cell_type": "code",
   "execution_count": 39,
   "metadata": {},
   "outputs": [],
   "source": [
    "f5_effects,t2_effects       = direct_approach(mydf)\n",
    "f5_effects_SE,t2_effects_SE = block_bootstrap_SEs_direct(mydf, 100)"
   ]
  },
  {
   "cell_type": "markdown",
   "metadata": {},
   "source": [
    "### Make Graph for Figure 5"
   ]
  },
  {
   "cell_type": "code",
   "execution_count": 40,
   "metadata": {
    "scrolled": true
   },
   "outputs": [],
   "source": [
    "# Make into nice dataframe\n",
    "effects_f5_df = pd.DataFrame({'Time':f5_effects['RT'],\n",
    "                              'Coefficient':f5_effects['ATT'],\n",
    "                              'Standard Error':f5_effects_SE})\n",
    "\n",
    "# Get upper and lower confidence bounds\n",
    "effects_f5_df['Upper CI'] = effects_f5_df['Coefficient']+1.96*effects_f5_df['Standard Error']\n",
    "effects_f5_df['Lower CI'] = effects_f5_df['Coefficient']-1.96*effects_f5_df['Standard Error']"
   ]
  },
  {
   "cell_type": "code",
   "execution_count": 41,
   "metadata": {},
   "outputs": [
    {
     "data": {
      "image/png": "[encoded data removed]",
      "text/plain": [
       "<Figure size 864x504 with 1 Axes>"
      ]
     },
     "metadata": {
      "needs_background": "light"
     },
     "output_type": "display_data"
    }
   ],
   "source": [
    "fig,ax = plt.subplots(figsize=(12,7))\n",
    "\n",
    "# Formatting stuff\n",
    "ax.spines['top'].set_visible(False)\n",
    "ax.spines['right'].set_visible(False)\n",
    "\n",
    "# Plot 1 main stuff\n",
    "ax.plot(effects_f5_df['Time'], effects_f5_df['Coefficient'], color='blue')\n",
    "ax.scatter(effects_f5_df['Time'], effects_f5_df['Coefficient'], color='blue')\n",
    "ax.plot(effects_f5_df['Time'], effects_f5_df['Upper CI'], linestyle='dashed', color='blue')\n",
    "ax.plot(effects_f5_df['Time'], effects_f5_df['Lower CI'], linestyle='dashed', color='blue')\n",
    "\n",
    "# Vertical/horizontal lines\n",
    "ax.axhline(y=0, color='black', linestyle='solid', alpha=0.8)\n",
    "ax.axvline(x=0, color='black', linestyle='solid', alpha=0.8)\n",
    "\n",
    "# Axis mess\n",
    "ax.set_xticks(np.arange(-7,16,1))\n",
    "ax.set_yticks(np.arange(-30,22,4))\n",
    "ax.set_xlabel(\"Years Since CHC Establishment\", size=14)\n",
    "ax.set_ylabel(\"Effect on Age-Adjusted Mortality Rate\", size=14)\n",
    "\n",
    "# Titles\n",
    "ax.set_title(\"Figure 5: Direct Computation Approach\", size=20)\n",
    "\n",
    "# Save out\n",
    "plt.savefig(\"./q8_output/q8e_fig5.png\")\n",
    "plt.show()"
   ]
  },
  {
   "cell_type": "markdown",
   "metadata": {},
   "source": [
    "### Make DF for Table 2"
   ]
  },
  {
   "cell_type": "code",
   "execution_count": 58,
   "metadata": {},
   "outputs": [
    {
     "data": {
      "text/html": [
       "<div>\n",
       "<style scoped>\n",
       "    .dataframe tbody tr th:only-of-type {\n",
       "        vertical-align: middle;\n",
       "    }\n",
       "\n",
       "    .dataframe tbody tr th {\n",
       "        vertical-align: top;\n",
       "    }\n",
       "\n",
       "    .dataframe thead th {\n",
       "        text-align: right;\n",
       "    }\n",
       "</style>\n",
       "<table border=\"1\" class=\"dataframe\">\n",
       "  <thead>\n",
       "    <tr style=\"text-align: right;\">\n",
       "      <th></th>\n",
       "      <th>Time</th>\n",
       "      <th>Coefficient</th>\n",
       "      <th>Standard Error</th>\n",
       "    </tr>\n",
       "  </thead>\n",
       "  <tbody>\n",
       "    <tr>\n",
       "      <th>0</th>\n",
       "      <td>Years -6 to -2</td>\n",
       "      <td>0.539</td>\n",
       "      <td>1.344</td>\n",
       "    </tr>\n",
       "    <tr>\n",
       "      <th>1</th>\n",
       "      <td>Years 0 to 4</td>\n",
       "      <td>-4.298***</td>\n",
       "      <td>2.270</td>\n",
       "    </tr>\n",
       "    <tr>\n",
       "      <th>2</th>\n",
       "      <td>Years 5 to 9</td>\n",
       "      <td>-6.112***</td>\n",
       "      <td>2.145</td>\n",
       "    </tr>\n",
       "    <tr>\n",
       "      <th>3</th>\n",
       "      <td>Years 10 to 14</td>\n",
       "      <td>-6.945***</td>\n",
       "      <td>2.971</td>\n",
       "    </tr>\n",
       "  </tbody>\n",
       "</table>\n",
       "</div>"
      ],
      "text/plain": [
       "             Time Coefficient  Standard Error\n",
       "0  Years -6 to -2       0.539           1.344\n",
       "1    Years 0 to 4   -4.298***           2.270\n",
       "2    Years 5 to 9   -6.112***           2.145\n",
       "3  Years 10 to 14   -6.945***           2.971"
      ]
     },
     "execution_count": 58,
     "metadata": {},
     "output_type": "execute_result"
    }
   ],
   "source": [
    "## Make into nice dataframe\n",
    "effects_t2_stars = get_stars(t2_effects['ATT'], t2_effects_SE)\n",
    "effects_t2_df = pd.DataFrame({'Time':[\"Years -6 to -2\",\"Years 0 to 4\",\"Years 5 to 9\",\"Years 10 to 14\"],\n",
    "                              'Coefficient':[str(np.round(t2_effects['ATT'][i],3))+effects_t2_stars[i] \n",
    "                                             for i in range(len(t2_effects['ATT'][1:-2]))],\n",
    "                              'Standard Error':np.round(t2_effects_SE[1:-2],3)})\n",
    "effects_t2_df.to_latex(\"./q8_output/q8e_table2.tex\", index=False)\n",
    "effects_t2_df"
   ]
  },
  {
   "cell_type": "markdown",
   "metadata": {},
   "source": [
    "# Q8(f) - Imputation Approach"
   ]
  },
  {
   "cell_type": "code",
   "execution_count": 70,
   "metadata": {},
   "outputs": [],
   "source": [
    "def imputation_approach(df):\n",
    "    \n",
    "    # Make cohort dummies - leave out never-treated as constant\n",
    "    cohort_dummies    = pd.get_dummies(df.cohort)\n",
    "    _Icohort_cols     = [f'c: {col}' for col in cohort_dummies.columns if col < 5000]\n",
    "    df[_Icohort_cols] = cohort_dummies.drop(np.inf, axis=1)\n",
    "\n",
    "    # Subset to just D_it = 0\n",
    "    df['D'] = np.where(df['year'] >= df['chc_year_exp'], 1, 0)\n",
    "    df_d0   = df[df['D'] == 0].copy()\n",
    "    \n",
    "    # Make regression matrices\n",
    "    XF_d0      = np.array(df_d0[_Iyear_cols+_Icohort_cols+['_const']])\n",
    "    YF_d0      = np.array(df_d0[Y_var])[:,None]\n",
    "    weightF_d0 = np.array(df_d0[weight_var])[:,None]\n",
    "    XF         = np.array(df[_Iyear_cols+_Icohort_cols+['_const']])\n",
    "    YF         = np.array(df[Y_var])[:,None]\n",
    "    weightF    = np.array(df[weight_var])[:,None]\n",
    "    \n",
    "    # Get inital beta from regression on untreated\n",
    "    beta_d0 = run_simple_regression(XF_d0,YF_d0,weightF_d0)\n",
    "    \n",
    "    # Add Ydot and Ytilde \n",
    "    df['Ydot']   = XF @ beta_d0\n",
    "    df['Ytilde'] = df[Y_var]-df['Ydot']\n",
    "\n",
    "    # Drop never treated\n",
    "    df = df[df.cohort < 5000]\n",
    "\n",
    "    # Do aggregation\n",
    "    wm               = lambda x: np.average(x, weights=df.loc[x.index,\"popwt\"])\n",
    "    imp_df           = df.groupby(['cohort','year']).agg(Ytilde=(\"Ytilde\",wm), N=(\"_const\",\"sum\")).reset_index()\n",
    "    imp_df['cohort'] = imp_df['cohort'].astype(int)\n",
    "    imp_df['RT']     = imp_df['year']-imp_df['cohort']\n",
    "    wm               = lambda x: np.average(x, weights=imp_df.loc[x.index,\"N\"])\n",
    "    full_results_df  = imp_df.groupby('RT').agg(ATT=(\"Ytilde\",wm),N=(\"N\",\"sum\")).reset_index()\n",
    "    \n",
    "    # Further aggregation for figure 5\n",
    "    fig5_results_df       = full_results_df.copy()\n",
    "    fig5_results_df['RT'] = np.where(fig5_results_df.RT <= -7, -7, fig5_results_df.RT)\n",
    "    fig5_results_df['RT'] = np.where(fig5_results_df.RT >= 15, 15, fig5_results_df.RT)\n",
    "    wm = lambda x: np.average(x, weights=fig5_results_df.loc[x.index,\"N\"])\n",
    "    fig5_results_df       = fig5_results_df.groupby('RT').agg(ATT=(\"ATT\",wm),N=(\"N\",\"sum\")).reset_index()\n",
    "    \n",
    "    # Further aggregation for Table 2\n",
    "    tab2_results_df       = full_results_df.copy()\n",
    "    tab2_results_df['RT'] = np.where(tab2_results_df.RT <= -7, -7, tab2_results_df.RT)\n",
    "    tab2_results_df['RT'] = np.where(tab2_results_df.RT >= 15, 15, tab2_results_df.RT)\n",
    "    tab2_results_df['RT'] = np.where((tab2_results_df.RT >= -6) & (tab2_results_df.RT <= -2), -6, tab2_results_df.RT)\n",
    "    tab2_results_df['RT'] = np.where((tab2_results_df.RT >= 0) & (tab2_results_df.RT <= 4), 0, tab2_results_df.RT)\n",
    "    tab2_results_df['RT'] = np.where((tab2_results_df.RT >= 5) & (tab2_results_df.RT <= 9), 9, tab2_results_df.RT)\n",
    "    tab2_results_df['RT'] = np.where((tab2_results_df.RT >= 10) & (tab2_results_df.RT <= 14), 10, tab2_results_df.RT)\n",
    "    tab2_results_df['RT'] = np.where(tab2_results_df.RT >= 15, 15, tab2_results_df.RT)\n",
    "    wm = lambda x: np.average(x, weights=tab2_results_df.loc[x.index,\"N\"])\n",
    "    tab2_results_df       = tab2_results_df.groupby('RT').agg(ATT=(\"ATT\",wm),N=(\"N\",\"sum\")).reset_index()\n",
    "\n",
    "    return fig5_results_df,tab2_results_df"
   ]
  },
  {
   "cell_type": "code",
   "execution_count": 71,
   "metadata": {},
   "outputs": [],
   "source": [
    "def block_bootstrap_SEs_impute(df, N_boots):\n",
    "    \n",
    "    # Get list of fips\n",
    "    fips_list = df.fips.unique()\n",
    "    N_fips    = fips_list.shape[0]\n",
    "\n",
    "    effects_f5_list = [] \n",
    "    effects_t2_list = [] \n",
    "    for i in range(N_boots):\n",
    "        \n",
    "        # Resample at the county leve\n",
    "        df_sample = df.copy()\n",
    "        df_sample = df.set_index('fips').loc[np.random.choice(fips_list, N_fips, replace=True)]\n",
    "        \n",
    "        # Get results dataframe - SKIP IF LINEAR ALGEBRA ERROR FROM BAD SAMPLE\n",
    "        try:\n",
    "            res = imputation_approach(df_sample.reset_index())\n",
    "            effects_f5_list.append(res[0])\n",
    "            effects_t2_list.append(res[1])\n",
    "        except:\n",
    "            pass\n",
    "    \n",
    "    # Aggregate nicely\n",
    "    bootstraps_f5 = np.zeros((effects_f5_list[0].shape[0],\n",
    "                              effects_f5_list[0].shape[1],\n",
    "                              len(effects_f5_list)))\n",
    "    for i in range(len(effects_f5_list)):\n",
    "        bootstraps_f5[:,:,i] = np.array(effects_f5_list[i])\n",
    "    bootstraps_t2 = np.zeros((effects_t2_list[0].shape[0],\n",
    "                              effects_t2_list[0].shape[1],\n",
    "                              len(effects_t2_list)))\n",
    "    for i in range(len(effects_t2_list)):\n",
    "        bootstraps_t2[:,:,i] = np.array(effects_t2_list[i])\n",
    "        \n",
    "    # Return standard deviation of estimators\n",
    "    return np.std(bootstraps_f5, axis=2)[:,1],np.std(bootstraps_t2, axis=2)[:,1]\n"
   ]
  },
  {
   "cell_type": "code",
   "execution_count": 72,
   "metadata": {},
   "outputs": [],
   "source": [
    "mydf = copy.deepcopy(df[['fips','chc_year_exp','year','popwt','cohort','amr','_const']+_Iyear_cols])"
   ]
  },
  {
   "cell_type": "code",
   "execution_count": 74,
   "metadata": {
    "scrolled": false
   },
   "outputs": [],
   "source": [
    "effects_impute    = imputation_approach(mydf)\n",
    "effects_impute_SE = block_bootstrap_SEs_impute(mydf, 100)\n",
    "effects_impute_f5,effects_impute_t2       = effects_impute[0],effects_impute[1]\n",
    "effects_impute_f5_SE,effects_impute_t2_SE = effects_impute_SE[0],effects_impute_SE[1]"
   ]
  },
  {
   "cell_type": "markdown",
   "metadata": {},
   "source": [
    "### Make Graph for Figure 5"
   ]
  },
  {
   "cell_type": "code",
   "execution_count": 76,
   "metadata": {},
   "outputs": [],
   "source": [
    "# Make into nice dataframe\n",
    "effects_f5_df = pd.DataFrame({'Time':effects_impute_f5['RT'],\n",
    "                              'Coefficient':effects_impute_f5['ATT'],\n",
    "                              'Standard Error':effects_impute_f5_SE})\n",
    "\n",
    "# Get upper and lower confidence bounds\n",
    "effects_f5_df['Upper CI'] = effects_f5_df['Coefficient']+1.96*effects_f5_df['Standard Error']\n",
    "effects_f5_df['Lower CI'] = effects_f5_df['Coefficient']-1.96*effects_f5_df['Standard Error']"
   ]
  },
  {
   "cell_type": "code",
   "execution_count": 77,
   "metadata": {},
   "outputs": [
    {
     "data": {
      "image/png": "[encoded data removed]",
      "text/plain": [
       "<Figure size 864x504 with 1 Axes>"
      ]
     },
     "metadata": {
      "needs_background": "light"
     },
     "output_type": "display_data"
    }
   ],
   "source": [
    "fig,ax = plt.subplots(figsize=(12,7))\n",
    "\n",
    "# Formatting stuff\n",
    "ax.spines['top'].set_visible(False)\n",
    "ax.spines['right'].set_visible(False)\n",
    "\n",
    "# Plot 1 main stuff\n",
    "ax.plot(effects_f5_df['Time'], effects_f5_df['Coefficient'], color='blue')\n",
    "ax.scatter(effects_f5_df['Time'], effects_f5_df['Coefficient'], color='blue')\n",
    "ax.plot(effects_f5_df['Time'], effects_f5_df['Upper CI'], linestyle='dashed', color='blue')\n",
    "ax.plot(effects_f5_df['Time'], effects_f5_df['Lower CI'], linestyle='dashed', color='blue')\n",
    "\n",
    "# Vertical/horizontal lines\n",
    "ax.axhline(y=0, color='black', linestyle='solid', alpha=0.8)\n",
    "ax.axvline(x=0, color='black', linestyle='solid', alpha=0.8)\n",
    "\n",
    "# Axis mess\n",
    "ax.set_xticks(np.arange(-7,16,1))\n",
    "ax.set_yticks(np.arange(-30,22,4))\n",
    "ax.set_xlabel(\"Years Since CHC Establishment\", size=14)\n",
    "ax.set_ylabel(\"Effect on Age-Adjusted Mortality Rate\", size=14)\n",
    "\n",
    "# Titles\n",
    "ax.set_title(\"Figure 5: Imputation Approach\", size=20)\n",
    "\n",
    "# Save out\n",
    "plt.savefig(\"./q8_output/q8f_fig5.png\")\n",
    "plt.show()"
   ]
  },
  {
   "cell_type": "markdown",
   "metadata": {},
   "source": [
    "### Make DF for Table 2"
   ]
  },
  {
   "cell_type": "code",
   "execution_count": 78,
   "metadata": {},
   "outputs": [
    {
     "data": {
      "text/html": [
       "<div>\n",
       "<style scoped>\n",
       "    .dataframe tbody tr th:only-of-type {\n",
       "        vertical-align: middle;\n",
       "    }\n",
       "\n",
       "    .dataframe tbody tr th {\n",
       "        vertical-align: top;\n",
       "    }\n",
       "\n",
       "    .dataframe thead th {\n",
       "        text-align: right;\n",
       "    }\n",
       "</style>\n",
       "<table border=\"1\" class=\"dataframe\">\n",
       "  <thead>\n",
       "    <tr style=\"text-align: right;\">\n",
       "      <th></th>\n",
       "      <th>Time</th>\n",
       "      <th>Coefficient</th>\n",
       "      <th>Standard Error</th>\n",
       "    </tr>\n",
       "  </thead>\n",
       "  <tbody>\n",
       "    <tr>\n",
       "      <th>0</th>\n",
       "      <td>Years -6 to -2</td>\n",
       "      <td>0.539</td>\n",
       "      <td>1.344</td>\n",
       "    </tr>\n",
       "    <tr>\n",
       "      <th>1</th>\n",
       "      <td>Years 0 to 4</td>\n",
       "      <td>-4.298***</td>\n",
       "      <td>2.270</td>\n",
       "    </tr>\n",
       "    <tr>\n",
       "      <th>2</th>\n",
       "      <td>Years 5 to 9</td>\n",
       "      <td>-6.112***</td>\n",
       "      <td>2.145</td>\n",
       "    </tr>\n",
       "    <tr>\n",
       "      <th>3</th>\n",
       "      <td>Years 10 to 14</td>\n",
       "      <td>-6.945***</td>\n",
       "      <td>2.971</td>\n",
       "    </tr>\n",
       "  </tbody>\n",
       "</table>\n",
       "</div>"
      ],
      "text/plain": [
       "             Time Coefficient  Standard Error\n",
       "0  Years -6 to -2       0.539           1.344\n",
       "1    Years 0 to 4   -4.298***           2.270\n",
       "2    Years 5 to 9   -6.112***           2.145\n",
       "3  Years 10 to 14   -6.945***           2.971"
      ]
     },
     "execution_count": 78,
     "metadata": {},
     "output_type": "execute_result"
    }
   ],
   "source": [
    "## Make into nice dataframe\n",
    "effects_impute_t2_stars = get_stars(effects_impute_t2['ATT'], effects_impute_t2_SE)\n",
    "effects_impute_t2_df    = pd.DataFrame({'Time':[\"Years -6 to -2\",\"Years 0 to 4\",\"Years 5 to 9\",\"Years 10 to 14\"],\n",
    "                                        'Coefficient':[str(np.round(effects_impute_t2['ATT'][i],3))+effects_impute_t2_stars[i] \n",
    "                                                       for i in range(len(effects_impute_t2['ATT'][1:-2]))],\n",
    "                                        'Standard Error':np.round(effects_impute_t2_SE[1:-2],3)})\n",
    "effects_t2_df.to_latex(\"./q8_output/q8f_table2.tex\", index=False)\n",
    "effects_t2_df"
   ]
  },
  {
   "cell_type": "markdown",
   "metadata": {},
   "source": [
    "# Q8(g) - Add Back Urban Interactions"
   ]
  },
  {
   "cell_type": "markdown",
   "metadata": {},
   "source": [
    "### Imputation Approach"
   ]
  },
  {
   "cell_type": "code",
   "execution_count": 85,
   "metadata": {},
   "outputs": [],
   "source": [
    "def imputation_approach_g(df):\n",
    "    \n",
    "    # Make cohort dummies - leave out never-treated as constant\n",
    "    cohort_dummies    = pd.get_dummies(df.cohort)\n",
    "    _Icohort_cols     = [f'c: {col}' for col in cohort_dummies.columns if col < 5000]\n",
    "    df[_Icohort_cols] = cohort_dummies.drop(np.inf, axis=1)\n",
    "\n",
    "    # Subset to just D_it = 0\n",
    "    df['D'] = np.where(df['year'] >= df['chc_year_exp'], 1, 0)\n",
    "    df_d0   = df[df['D'] == 0].copy()\n",
    "    \n",
    "    # Make regression matrices\n",
    "    XF_d0      = np.array(df_d0[_Iyear_cols+_IyeaXDu_cols+_Icohort_cols+['_const']])\n",
    "    YF_d0      = np.array(df_d0[Y_var])[:,None]\n",
    "    weightF_d0 = np.array(df_d0[weight_var])[:,None]\n",
    "    XF         = np.array(df[_Iyear_cols+_IyeaXDu_cols+_Icohort_cols+['_const']])\n",
    "    YF         = np.array(df[Y_var])[:,None]\n",
    "    weightF    = np.array(df[weight_var])[:,None]\n",
    "    \n",
    "    # Get inital beta from regression on untreated\n",
    "    beta_d0 = run_simple_regression(XF_d0,YF_d0,weightF_d0)\n",
    "    \n",
    "    # Add Ydot and Ytilde \n",
    "    df['Ydot']   = XF @ beta_d0\n",
    "    df['Ytilde'] = df[Y_var]-df['Ydot']\n",
    "\n",
    "    # Drop never treated\n",
    "    df = df[df.cohort < 5000]\n",
    "\n",
    "    # Do aggregation\n",
    "    wm               = lambda x: np.average(x, weights=df.loc[x.index,\"popwt\"])\n",
    "    imp_df           = df.groupby(['cohort','year']).agg(Ytilde=(\"Ytilde\",wm), N=(\"_const\",\"sum\")).reset_index()\n",
    "    imp_df['cohort'] = imp_df['cohort'].astype(int)\n",
    "    imp_df['RT']     = imp_df['year']-imp_df['cohort']\n",
    "    wm               = lambda x: np.average(x, weights=imp_df.loc[x.index,\"N\"])\n",
    "    full_results_df  = imp_df.groupby('RT').agg(ATT=(\"Ytilde\",wm),N=(\"N\",\"sum\")).reset_index()\n",
    "    \n",
    "    # Further aggregation for figure 5\n",
    "    fig5_results_df       = full_results_df.copy()\n",
    "    fig5_results_df['RT'] = np.where(fig5_results_df.RT <= -7, -7, fig5_results_df.RT)\n",
    "    fig5_results_df['RT'] = np.where(fig5_results_df.RT >= 15, 15, fig5_results_df.RT)\n",
    "    wm = lambda x: np.average(x, weights=fig5_results_df.loc[x.index,\"N\"])\n",
    "    fig5_results_df       = fig5_results_df.groupby('RT').agg(ATT=(\"ATT\",wm),N=(\"N\",\"sum\")).reset_index()\n",
    "    \n",
    "    # Further aggregation for Table 2\n",
    "    tab2_results_df       = full_results_df.copy()\n",
    "    tab2_results_df['RT'] = np.where(tab2_results_df.RT <= -7, -7, tab2_results_df.RT)\n",
    "    tab2_results_df['RT'] = np.where(tab2_results_df.RT >= 15, 15, tab2_results_df.RT)\n",
    "    tab2_results_df['RT'] = np.where((tab2_results_df.RT >= -6) & (tab2_results_df.RT <= -2), -6, tab2_results_df.RT)\n",
    "    tab2_results_df['RT'] = np.where((tab2_results_df.RT >= 0) & (tab2_results_df.RT <= 4), 0, tab2_results_df.RT)\n",
    "    tab2_results_df['RT'] = np.where((tab2_results_df.RT >= 5) & (tab2_results_df.RT <= 9), 9, tab2_results_df.RT)\n",
    "    tab2_results_df['RT'] = np.where((tab2_results_df.RT >= 10) & (tab2_results_df.RT <= 14), 10, tab2_results_df.RT)\n",
    "    tab2_results_df['RT'] = np.where(tab2_results_df.RT >= 15, 15, tab2_results_df.RT)\n",
    "    wm = lambda x: np.average(x, weights=tab2_results_df.loc[x.index,\"N\"])\n",
    "    tab2_results_df       = tab2_results_df.groupby('RT').agg(ATT=(\"ATT\",wm),N=(\"N\",\"sum\")).reset_index()\n",
    "\n",
    "    return fig5_results_df,tab2_results_df"
   ]
  },
  {
   "cell_type": "code",
   "execution_count": 86,
   "metadata": {},
   "outputs": [],
   "source": [
    "def block_bootstrap_SEs_impute_g(df, N_boots):\n",
    "    \n",
    "    # Get list of fips\n",
    "    fips_list = df.fips.unique()\n",
    "    N_fips    = fips_list.shape[0]\n",
    "\n",
    "    effects_f5_list = [] \n",
    "    effects_t2_list = [] \n",
    "    for i in range(N_boots):\n",
    "        \n",
    "        # Resample at the county leve\n",
    "        df_sample = df.copy()\n",
    "        df_sample = df.set_index('fips').loc[np.random.choice(fips_list, N_fips, replace=True)]\n",
    "        \n",
    "        # Get results dataframe - SKIP IF LINEAR ALGEBRA ERROR FROM BAD SAMPLE\n",
    "        try:\n",
    "            res = imputation_approach_g(df_sample.reset_index())\n",
    "            effects_f5_list.append(res[0])\n",
    "            effects_t2_list.append(res[1])\n",
    "        except:\n",
    "            pass\n",
    "    \n",
    "    # Aggregate nicely\n",
    "    bootstraps_f5 = np.zeros((effects_f5_list[0].shape[0],\n",
    "                              effects_f5_list[0].shape[1],\n",
    "                              len(effects_f5_list)))\n",
    "    for i in range(len(effects_f5_list)):\n",
    "        bootstraps_f5[:,:,i] = np.array(effects_f5_list[i])\n",
    "    bootstraps_t2 = np.zeros((effects_t2_list[0].shape[0],\n",
    "                              effects_t2_list[0].shape[1],\n",
    "                              len(effects_t2_list)))\n",
    "    for i in range(len(effects_t2_list)):\n",
    "        bootstraps_t2[:,:,i] = np.array(effects_t2_list[i])\n",
    "        \n",
    "    # Return standard deviation of estimators\n",
    "    return np.std(bootstraps_f5, axis=2)[:,1],np.std(bootstraps_t2, axis=2)[:,1]\n"
   ]
  },
  {
   "cell_type": "code",
   "execution_count": 87,
   "metadata": {},
   "outputs": [],
   "source": [
    "mydf = copy.deepcopy(df[['fips','chc_year_exp','year','popwt','cohort','amr','_const']+_Iyear_cols+_IyeaXDu_cols])"
   ]
  },
  {
   "cell_type": "code",
   "execution_count": 88,
   "metadata": {},
   "outputs": [],
   "source": [
    "effects_impute    = imputation_approach_g(mydf)\n",
    "effects_impute_SE = block_bootstrap_SEs_impute_g(mydf, 100)\n",
    "effects_impute_f5,effects_impute_t2       = effects_impute[0],effects_impute[1]\n",
    "effects_impute_f5_SE,effects_impute_t2_SE = effects_impute_SE[0],effects_impute_SE[1]"
   ]
  },
  {
   "cell_type": "code",
   "execution_count": 89,
   "metadata": {},
   "outputs": [],
   "source": [
    "# Make into nice dataframe\n",
    "effects_f5_df = pd.DataFrame({'Time':effects_impute_f5['RT'],\n",
    "                              'Coefficient':effects_impute_f5['ATT'],\n",
    "                              'Standard Error':effects_impute_f5_SE})\n",
    "\n",
    "# Get upper and lower confidence bounds\n",
    "effects_f5_df['Upper CI'] = effects_f5_df['Coefficient']+1.96*effects_f5_df['Standard Error']\n",
    "effects_f5_df['Lower CI'] = effects_f5_df['Coefficient']-1.96*effects_f5_df['Standard Error']"
   ]
  },
  {
   "cell_type": "code",
   "execution_count": 90,
   "metadata": {},
   "outputs": [
    {
     "data": {
      "image/png": "[encoded data removed]",
      "text/plain": [
       "<Figure size 864x504 with 1 Axes>"
      ]
     },
     "metadata": {
      "needs_background": "light"
     },
     "output_type": "display_data"
    }
   ],
   "source": [
    "fig,ax = plt.subplots(figsize=(12,7))\n",
    "\n",
    "# Formatting stuff\n",
    "ax.spines['top'].set_visible(False)\n",
    "ax.spines['right'].set_visible(False)\n",
    "\n",
    "# Plot 1 main stuff\n",
    "ax.plot(effects_f5_df['Time'], effects_f5_df['Coefficient'], color='blue')\n",
    "ax.scatter(effects_f5_df['Time'], effects_f5_df['Coefficient'], color='blue')\n",
    "ax.plot(effects_f5_df['Time'], effects_f5_df['Upper CI'], linestyle='dashed', color='blue')\n",
    "ax.plot(effects_f5_df['Time'], effects_f5_df['Lower CI'], linestyle='dashed', color='blue')\n",
    "\n",
    "# Vertical/horizontal lines\n",
    "ax.axhline(y=0, color='black', linestyle='solid', alpha=0.8)\n",
    "ax.axvline(x=0, color='black', linestyle='solid', alpha=0.8)\n",
    "\n",
    "# Axis mess\n",
    "ax.set_xticks(np.arange(-7,16,1))\n",
    "ax.set_yticks(np.arange(-30,22,4))\n",
    "ax.set_xlabel(\"Years Since CHC Establishment\", size=14)\n",
    "ax.set_ylabel(\"Effect on Age-Adjusted Mortality Rate\", size=14)\n",
    "\n",
    "# Titles\n",
    "ax.set_title(\"Figure 5: Imputation Approach\", size=20)\n",
    "\n",
    "# Save out\n",
    "plt.savefig(\"./q8_output/q8g_fig5_impute.png\")\n",
    "plt.show()"
   ]
  },
  {
   "cell_type": "code",
   "execution_count": 91,
   "metadata": {},
   "outputs": [
    {
     "data": {
      "text/html": [
       "<div>\n",
       "<style scoped>\n",
       "    .dataframe tbody tr th:only-of-type {\n",
       "        vertical-align: middle;\n",
       "    }\n",
       "\n",
       "    .dataframe tbody tr th {\n",
       "        vertical-align: top;\n",
       "    }\n",
       "\n",
       "    .dataframe thead th {\n",
       "        text-align: right;\n",
       "    }\n",
       "</style>\n",
       "<table border=\"1\" class=\"dataframe\">\n",
       "  <thead>\n",
       "    <tr style=\"text-align: right;\">\n",
       "      <th></th>\n",
       "      <th>Time</th>\n",
       "      <th>Coefficient</th>\n",
       "      <th>Standard Error</th>\n",
       "    </tr>\n",
       "  </thead>\n",
       "  <tbody>\n",
       "    <tr>\n",
       "      <th>0</th>\n",
       "      <td>Years -6 to -2</td>\n",
       "      <td>0.539</td>\n",
       "      <td>1.344</td>\n",
       "    </tr>\n",
       "    <tr>\n",
       "      <th>1</th>\n",
       "      <td>Years 0 to 4</td>\n",
       "      <td>-4.298***</td>\n",
       "      <td>2.270</td>\n",
       "    </tr>\n",
       "    <tr>\n",
       "      <th>2</th>\n",
       "      <td>Years 5 to 9</td>\n",
       "      <td>-6.112***</td>\n",
       "      <td>2.145</td>\n",
       "    </tr>\n",
       "    <tr>\n",
       "      <th>3</th>\n",
       "      <td>Years 10 to 14</td>\n",
       "      <td>-6.945***</td>\n",
       "      <td>2.971</td>\n",
       "    </tr>\n",
       "  </tbody>\n",
       "</table>\n",
       "</div>"
      ],
      "text/plain": [
       "             Time Coefficient  Standard Error\n",
       "0  Years -6 to -2       0.539           1.344\n",
       "1    Years 0 to 4   -4.298***           2.270\n",
       "2    Years 5 to 9   -6.112***           2.145\n",
       "3  Years 10 to 14   -6.945***           2.971"
      ]
     },
     "execution_count": 91,
     "metadata": {},
     "output_type": "execute_result"
    }
   ],
   "source": [
    "## Make into nice dataframe\n",
    "effects_impute_t2_stars = get_stars(effects_impute_t2['ATT'], effects_impute_t2_SE)\n",
    "effects_impute_t2_df    = pd.DataFrame({'Time':[\"Years -6 to -2\",\"Years 0 to 4\",\"Years 5 to 9\",\"Years 10 to 14\"],\n",
    "                                        'Coefficient':[str(np.round(effects_impute_t2['ATT'][i],3))+effects_impute_t2_stars[i] \n",
    "                                                       for i in range(len(effects_impute_t2['ATT'][1:-2]))],\n",
    "                                        'Standard Error':np.round(effects_impute_t2_SE[1:-2],3)})\n",
    "effects_t2_df.to_latex(\"./q8_output/q8g_table2_impute.tex\", index=False)\n",
    "effects_t2_df"
   ]
  },
  {
   "cell_type": "markdown",
   "metadata": {},
   "source": [
    "### Direct Approach"
   ]
  },
  {
   "cell_type": "code",
   "execution_count": 317,
   "metadata": {},
   "outputs": [],
   "source": [
    "def direct_approach_g(df):\n",
    "    \n",
    "    # Start with earliest cohort and iterate\n",
    "    att_dict      = {}\n",
    "    rel_diff_dict = {}\n",
    "    for e1 in df.cohort.unique():\n",
    "        \n",
    "        # Skip never-treated\n",
    "        if e1 >= 2000:\n",
    "            continue\n",
    "\n",
    "        # Only loop through years for cohort if they exist\n",
    "        cohort_size = df[df.cohort == e1]['fips'].unique().shape[0]\n",
    "        for t1 in df.year.unique():\n",
    "\n",
    "            # Subset to just those necessary for regression\n",
    "            df_kit1 = copy.deepcopy(df[ \n",
    "                 (((df['year'] < e1) | (df['year'] == t1)) & ((df['cohort'] == e1) | (df['cohort'] > t1))) == 1\n",
    "            ])\n",
    "            \n",
    "            if df_kit1.shape[0] > 0:\n",
    "\n",
    "                # Make indicator variables for regression\n",
    "                XE      = np.zeros((df_kit1.shape[0],4))\n",
    "                XE[:,0] = np.ones(df_kit1.shape[0])\n",
    "                XE[:,1] = np.array((df_kit1['year'] == t1).astype(int))\n",
    "                XE[:,2] = np.array((df_kit1['cohort'] == e1).astype(int))\n",
    "                XE[:,3] = np.array(((df_kit1['year'] == t1) & (df_kit1['cohort'] == e1)).astype(int))\n",
    "                YE      = np.array(df_kit1[Y_var])[:,None]\n",
    "                weightE = np.array(df_kit1[weight_var])[:,None]\n",
    "\n",
    "                # Get ATT_t(e)\n",
    "                att = run_simple_regression(XE,YE,weightE)[-1,0]\n",
    "                att_dict[(e1,t1)] = (att,cohort_size)\n",
    "\n",
    "                # Relative time effect\n",
    "                rel_time = t1-e1\n",
    "                try:\n",
    "                    rel_diff_dict[rel_time].append((att,cohort_size))\n",
    "                except:\n",
    "                    rel_diff_dict[rel_time] = [(att,cohort_size)]\n",
    "\n",
    "    # Aggregate!\n",
    "    results = np.zeros((len(rel_diff_dict),3))\n",
    "    for j,item in enumerate(rel_diff_dict):\n",
    "        atts    = np.array([i[0] for i in rel_diff_dict[item]])\n",
    "        weights = np.array([i[1] for i in rel_diff_dict[item]])\n",
    "\n",
    "        results[j,0] = int(item)\n",
    "        results[j,1] = np.average(atts, weights=weights)\n",
    "        results[j,2] = np.sum(weights)\n",
    "\n",
    "    # Make dataframe from results\n",
    "    full_results_df = pd.DataFrame(results,columns=['RT','ATT','N']).sort_values('RT')\n",
    "\n",
    "    # Further aggregation for Figure 5\n",
    "    fig5_results_df       = full_results_df.copy()\n",
    "    fig5_results_df['RT'] = np.where(fig5_results_df.RT <= -7, -7, fig5_results_df.RT)\n",
    "    fig5_results_df['RT'] = np.where(fig5_results_df.RT >= 15, 15, fig5_results_df.RT)\n",
    "    wm = lambda x: np.average(x, weights=fig5_results_df.loc[x.index,\"N\"])\n",
    "    fig5_results_df       = fig5_results_df.groupby('RT').agg(ATT=(\"ATT\",wm),N=(\"N\",\"sum\")).reset_index()\n",
    "    \n",
    "    # Further aggregation for Table 2\n",
    "    tab2_results_df       = full_results_df.copy()\n",
    "    tab2_results_df['RT'] = np.where(tab2_results_df.RT <= -7, -7, tab2_results_df.RT)\n",
    "    tab2_results_df['RT'] = np.where(tab2_results_df.RT >= 15, 15, tab2_results_df.RT)\n",
    "    tab2_results_df['RT'] = np.where((tab2_results_df.RT >= -6) & (tab2_results_df.RT <= -2), -6, tab2_results_df.RT)\n",
    "    tab2_results_df['RT'] = np.where((tab2_results_df.RT >= 0) & (tab2_results_df.RT <= 4), 0, tab2_results_df.RT)\n",
    "    tab2_results_df['RT'] = np.where((tab2_results_df.RT >= 5) & (tab2_results_df.RT <= 9), 9, tab2_results_df.RT)\n",
    "    tab2_results_df['RT'] = np.where((tab2_results_df.RT >= 10) & (tab2_results_df.RT <= 14), 10, tab2_results_df.RT)\n",
    "    tab2_results_df['RT'] = np.where(tab2_results_df.RT >= 15, 15, tab2_results_df.RT)\n",
    "    wm = lambda x: np.average(x, weights=tab2_results_df.loc[x.index,\"N\"])\n",
    "    tab2_results_df       = tab2_results_df.groupby('RT').agg(ATT=(\"ATT\",wm),N=(\"N\",\"sum\")).reset_index()\n",
    "\n",
    "    return fig5_results_df,tab2_results_df"
   ]
  },
  {
   "cell_type": "code",
   "execution_count": null,
   "metadata": {},
   "outputs": [],
   "source": []
  }
 ],
 "metadata": {
  "kernelspec": {
   "display_name": "Python 3",
   "language": "python",
   "name": "python3"
  },
  "language_info": {
   "codemirror_mode": {
    "name": "ipython",
    "version": 3
   },
   "file_extension": ".py",
   "mimetype": "text/x-python",
   "name": "python",
   "nbconvert_exporter": "python",
   "pygments_lexer": "ipython3",
   "version": "3.8.5"
  }
 },
 "nbformat": 4,
 "nbformat_minor": 4
}
