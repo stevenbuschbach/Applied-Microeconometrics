{
 "cells": [
  {
   "cell_type": "code",
   "execution_count": 1,
   "metadata": {},
   "outputs": [],
   "source": [
    "# Pandas and numpy necessary to do basic data cleaning\n",
    "import pandas as pd\n",
    "import numpy as np\n",
    "import matplotlib.pyplot as plt\n",
    "import copy"
   ]
  },
  {
   "cell_type": "markdown",
   "metadata": {},
   "source": [
    "# Import and Clean Data"
   ]
  },
  {
   "cell_type": "code",
   "execution_count": 38,
   "metadata": {},
   "outputs": [],
   "source": [
    "def make_aer_data(pre1998=True):\n",
    "    \n",
    "    # Import\n",
    "    df = pd.read_stata(\"./aer_data/aer_data.dta\")\n",
    "\n",
    "    # Clean up data types\n",
    "    df['year'] = df.year.dt.year\n",
    "    for x in ['year','fips','stfips']:\n",
    "        df[x] = df[x].astype(int)\n",
    "\n",
    "    # Filter data by year and remove the THREE BIGGEST CITIES WHY DO THEY DO THIS\n",
    "    if pre1998 == True:\n",
    "        df = df[df.year <= 1988]\n",
    "    df = df[~((df.stfips == 36) & (df.cofips == 61))] \n",
    "    df = df[~((df.stfips == 6) & (df.cofips == 37))]\n",
    "    df = df[~((df.stfips == 17) & (df.cofips == 31))]\n",
    "\n",
    "    # Make new variables related to urbanization\n",
    "    df_1960_pcturban = df.loc[df.year == 1960, ['fips','D_60pcturban_t']] \\\n",
    "                         .drop_duplicates('fips') \\\n",
    "                         .rename(columns={'D_60pcturban_t':'_urb'}) \\\n",
    "                         .fillna(0)\n",
    "    df = df.merge(df_1960_pcturban, how='left', on='fips')\n",
    "    df['Durb'] = pd.cut(x=df._urb, bins=[0,1,25,50,75,110], right=False, labels=[0,1,25,50,75])\n",
    "\n",
    "    # Make straight-up dummy variables\n",
    "    year_dummies   = pd.get_dummies(df.year, prefix=\"_Iyear\", drop_first=True)\n",
    "    Durb_dummies   = pd.get_dummies(df.Durb, prefix=\"_IDurb\", drop_first=True)\n",
    "    fips_dummies   = pd.get_dummies(df.fips, prefix=\"_Ifips\", drop_first=True)\n",
    "    stfips_dummies = pd.get_dummies(df.stfips, prefix=\"_Istfips\", drop_first=True)\n",
    "\n",
    "    # Make interaction dummies\n",
    "    for year in np.sort(df.year.unique()):\n",
    "        for Durb in np.sort(df.Durb.unique()):\n",
    "            if (f\"_Iyear_{year}\" in year_dummies.columns) & (f\"_IDurb_{Durb}\" in Durb_dummies.columns):\n",
    "                df[f\"_IyeaXDur_{year}_{Durb}\"] = year_dummies[f\"_Iyear_{year}\"]*Durb_dummies[f\"_IDurb_{Durb}\"]\n",
    "        for stfips in np.sort(df.stfips.unique()):\n",
    "            if (f\"_Iyear_{year}\" in year_dummies.columns) & (f\"_Istfips_{stfips}\" in stfips_dummies.columns):\n",
    "                df[f\"_IyeaXstf_{year}_{stfips}\"] = year_dummies[f\"_Iyear_{year}\"]*stfips_dummies[f\"_Istfips_{stfips}\"]\n",
    "    for fips in np.sort(df.fips.unique()):\n",
    "        df[f\"_IfipXyea_{fips}\"] = np.where((df['fips']) == fips, df['year'], 0)\n",
    "\n",
    "    # Make did1 dummies\n",
    "    for i,did1 in enumerate(np.sort(df.did1.unique())):\n",
    "        if did1 != -1:\n",
    "            df[f\"_DDdid1_{i+1}\"] = np.where(df['did1'] == did1, 1, 0)\n",
    "\n",
    "    # Make exp1 dummies\n",
    "    for i,exp1 in enumerate(np.sort(df.exp1.unique())):\n",
    "        if exp1 != -1:\n",
    "            df[f\"_Texp1_{i+1}\"] = np.where(df['exp1'] == exp1, 1, 0)\n",
    "\n",
    "    # Make exp2 dummies\n",
    "    for i,exp2 in enumerate(np.sort(df.exp2.unique())):\n",
    "        if exp2 != -1:\n",
    "            df[f\"_Texp2_{i+1}\"] = np.where(df['exp2'] == exp2, 1, 0)\n",
    "\n",
    "#     # Make exp1_1998 dummies and rename to not confuse me\n",
    "#     for i,exp1_1998 in enumerate(np.sort(df.exp1_1998.unique())):\n",
    "#         if exp1_1998 != -1:\n",
    "#             df[f\"_Texp3_{i+1}\"] = np.where(df['exp1_1998'] == exp1_1998, 1, 0)\n",
    "\n",
    "    # Add on year and fips dummies\n",
    "    df = pd.concat([df,year_dummies],axis=1)\n",
    "    df = pd.concat([df,fips_dummies],axis=1)\n",
    "\n",
    "    # Drop missing response values\n",
    "    df = df[~df['amr'].isna()]\n",
    "\n",
    "    # Add constant\n",
    "    df['_const']  = 1\n",
    "    \n",
    "    return df"
   ]
  },
  {
   "cell_type": "code",
   "execution_count": 39,
   "metadata": {},
   "outputs": [],
   "source": [
    "df = make_aer_data()"
   ]
  },
  {
   "cell_type": "markdown",
   "metadata": {},
   "source": [
    "# Q8(a) - Replication of Table 2, Column 1, Panel A"
   ]
  },
  {
   "cell_type": "markdown",
   "metadata": {},
   "source": [
    "### Regression Coefficient and SE Estimates"
   ]
  },
  {
   "cell_type": "code",
   "execution_count": 3,
   "metadata": {},
   "outputs": [],
   "source": [
    "def get_XY_arrays(df,X_cols,Y_var,weight_var,clust_var,fe=True):\n",
    "        \n",
    "    # Remove fixed effect means\n",
    "    fe_df = copy.deepcopy(df)        \n",
    "\n",
    "    if fe==True:\n",
    "        grouped_df = df.groupby(clust_var)\n",
    "        for x_col in X_cols:\n",
    "            fe_df[x_col] = df[x_col]-grouped_df[x_col].transform('mean')   \n",
    "        fe_df[Y_var] = df[Y_var]-grouped_df[Y_var].transform('mean')   \n",
    "        \n",
    "    # Make arrays \n",
    "    Y      = fe_df[Y_var].to_numpy()[:,None]\n",
    "    X      = fe_df[X_cols].to_numpy()\n",
    "    weight = fe_df[weight_var].to_numpy()[:,None]\n",
    "    N      = X.shape[0]\n",
    "    K      = X.shape[1]\n",
    "\n",
    "    return Y,X,weight,N,K,fe_df"
   ]
  },
  {
   "cell_type": "code",
   "execution_count": 4,
   "metadata": {},
   "outputs": [],
   "source": [
    "def run_aer_regression(df,Y,X,weight,N,K,X_cols,Y_var,weight_var):\n",
    "    \n",
    "    # Get beta value\n",
    "    beta = np.linalg.inv(np.multiply(X,weight).T @ X) @ np.multiply(X,weight).T @ Y\n",
    "    \n",
    "    # Build the 'meat' of the cluster sandwich SE estimator\n",
    "    clust_cov_sum = np.zeros((K,K))\n",
    "    for clust in np.sort(df[clust_var].unique()):\n",
    "\n",
    "        # Define data just from cluster\n",
    "        df_clust     = df[df[clust_var] == clust]\n",
    "        X_clust      = df_clust[X_cols].to_numpy()\n",
    "        Y_clust      = df_clust[Y_var].to_numpy()[:,None]\n",
    "        weight_clust = df_clust[weight_var].to_numpy()[:,None]\n",
    "\n",
    "        # Do weighted cluster robust SE formula\n",
    "        u_j  = np.multiply((Y_clust - X_clust @ beta), X_clust)\n",
    "        wu_j = np.multiply(weight_clust, u_j)\n",
    "        clust_sum = np.sum(wu_j, axis=0)[None,:]\n",
    "        clust_cov = clust_sum.T @ clust_sum\n",
    "\n",
    "        # Add to overall \n",
    "        clust_cov_sum += clust_cov\n",
    "\n",
    "    # Get (X'X)^(-1): the 'bread' of the sandwich\n",
    "    vcov = np.linalg.inv(np.multiply(X,weight).T @ X)\n",
    "\n",
    "    # Finite-sample correction\n",
    "    N_weight= weight.sum()\n",
    "    n_clust = df[clust_var].unique().shape[0]\n",
    "    qc      = (n_clust/(n_clust-1))*((N_weight-1)/(N_weight-K))\n",
    "\n",
    "    # Get standard errors of betas\n",
    "    beta_SE = np.sqrt(np.diag(qc * vcov @ clust_cov_sum @ vcov))\n",
    "    \n",
    "    return beta,beta_SE"
   ]
  },
  {
   "cell_type": "code",
   "execution_count": 5,
   "metadata": {},
   "outputs": [],
   "source": [
    "# Function for getting stars from z-scores\n",
    "def get_stars(est,est_SE):\n",
    "    est = est.ravel()\n",
    "    est_SE = est_SE.ravel()\n",
    "    stars_all = []\n",
    "    for i in range(len(est)):    \n",
    "        stars   = \"\"\n",
    "        esti    = est[i]\n",
    "        est_SEi = est_SE[i]\n",
    "        Z       = esti/est_SEi\n",
    "        if abs(Z) > 1.645:\n",
    "            stars = stars+\"*\"\n",
    "        if abs(Z) > 1.959:\n",
    "            stars = stars+\"*\"\n",
    "        if abs(Z) > 2.576:\n",
    "            stars = stars+\"*\"\n",
    "        stars_all.append(stars)\n",
    "    return stars_all"
   ]
  },
  {
   "cell_type": "code",
   "execution_count": 6,
   "metadata": {},
   "outputs": [],
   "source": [
    "# Define covariates to use\n",
    "_Ifips_cols   = [col for col in df if col.startswith('_Ifips')]\n",
    "_Iyear_cols   = [col for col in df if col.startswith('_Iyear')]\n",
    "_IyeaXDu_cols = [col for col in df if col.startswith('_IyeaXDu')]\n",
    "_DD_cols      = [col for col in df if col.startswith('_DD')]\n",
    "X_cols        = _Iyear_cols+_IyeaXDu_cols+_DD_cols \n",
    "fe_cols       = _Ifips_cols\n",
    "Y_var         = 'amr'\n",
    "weight_var    = 'popwt'\n",
    "clust_var     = 'fips'\n",
    "\n",
    "Y,X,weight,N,K,fe_df = get_XY_arrays(df, X_cols, Y_var, weight_var, clust_var)"
   ]
  },
  {
   "cell_type": "code",
   "execution_count": 7,
   "metadata": {},
   "outputs": [],
   "source": [
    "beta,beta_SE = run_aer_regression(fe_df, Y,X,weight, N, K, X_cols, Y_var, weight_var)\n",
    "beta_stars   = get_stars(beta, beta_SE)"
   ]
  },
  {
   "cell_type": "markdown",
   "metadata": {},
   "source": [
    "### Output Results to Latex"
   ]
  },
  {
   "cell_type": "code",
   "execution_count": 8,
   "metadata": {},
   "outputs": [],
   "source": [
    "beta_df = pd.DataFrame.from_dict({\"Variable\":X_cols,\n",
    "                                  \"Coefficient\":[str(np.round(beta.ravel()[i],3))+beta_stars[i] \n",
    "                                                 for i in range(beta.shape[0])],\n",
    "                                  \"Standard Error\":np.round(beta_SE,3)})\n",
    "beta_df = beta_df[(beta_df['Variable'] == '_DDdid1_2') |\n",
    "                  (beta_df['Variable'] == '_DDdid1_4') |\n",
    "                  (beta_df['Variable'] == '_DDdid1_5') | \n",
    "                  (beta_df['Variable'] == '_DDdid1_6')]\n",
    "beta_df[\"Variable\"] = [\"Years -6 to -2\",\"Years 0 to 4\",\"Years 5 to 9\",\"Years 10 to 14\"]\n",
    "beta_df.to_latex(\"./q8_replication_output/table2_col1_panelA_replication.tex\", index=False)"
   ]
  },
  {
   "cell_type": "code",
   "execution_count": 9,
   "metadata": {},
   "outputs": [
    {
     "data": {
      "text/html": [
       "<div>\n",
       "<style scoped>\n",
       "    .dataframe tbody tr th:only-of-type {\n",
       "        vertical-align: middle;\n",
       "    }\n",
       "\n",
       "    .dataframe tbody tr th {\n",
       "        vertical-align: top;\n",
       "    }\n",
       "\n",
       "    .dataframe thead th {\n",
       "        text-align: right;\n",
       "    }\n",
       "</style>\n",
       "<table border=\"1\" class=\"dataframe\">\n",
       "  <thead>\n",
       "    <tr style=\"text-align: right;\">\n",
       "      <th></th>\n",
       "      <th>Variable</th>\n",
       "      <th>Coefficient</th>\n",
       "      <th>Standard Error</th>\n",
       "    </tr>\n",
       "  </thead>\n",
       "  <tbody>\n",
       "    <tr>\n",
       "      <th>146</th>\n",
       "      <td>Years -6 to -2</td>\n",
       "      <td>0.034</td>\n",
       "      <td>2.844</td>\n",
       "    </tr>\n",
       "    <tr>\n",
       "      <th>147</th>\n",
       "      <td>Years 0 to 4</td>\n",
       "      <td>-5.636</td>\n",
       "      <td>3.540</td>\n",
       "    </tr>\n",
       "    <tr>\n",
       "      <th>148</th>\n",
       "      <td>Years 5 to 9</td>\n",
       "      <td>-12.045***</td>\n",
       "      <td>4.569</td>\n",
       "    </tr>\n",
       "    <tr>\n",
       "      <th>149</th>\n",
       "      <td>Years 10 to 14</td>\n",
       "      <td>-9.384*</td>\n",
       "      <td>5.639</td>\n",
       "    </tr>\n",
       "  </tbody>\n",
       "</table>\n",
       "</div>"
      ],
      "text/plain": [
       "           Variable Coefficient  Standard Error\n",
       "146  Years -6 to -2       0.034           2.844\n",
       "147    Years 0 to 4      -5.636           3.540\n",
       "148    Years 5 to 9  -12.045***           4.569\n",
       "149  Years 10 to 14     -9.384*           5.639"
      ]
     },
     "execution_count": 9,
     "metadata": {},
     "output_type": "execute_result"
    }
   ],
   "source": [
    "beta_df"
   ]
  },
  {
   "cell_type": "markdown",
   "metadata": {},
   "source": [
    "# Q8(c) - Simpler Specification of Table 2, Column 1, Panel A"
   ]
  },
  {
   "cell_type": "markdown",
   "metadata": {},
   "source": [
    "### Run Regression"
   ]
  },
  {
   "cell_type": "code",
   "execution_count": 10,
   "metadata": {},
   "outputs": [],
   "source": [
    "# Define covariates to use - this time without year-urban interaction FEs\n",
    "X_colsC = _Iyear_cols+_DD_cols \n",
    "\n",
    "YC,XC,weightC,NC,KC,fe_dfC = get_XY_arrays(df, X_colsC, Y_var, weight_var, clust_var)"
   ]
  },
  {
   "cell_type": "code",
   "execution_count": 11,
   "metadata": {},
   "outputs": [],
   "source": [
    "betaC,beta_SEC = run_aer_regression(fe_dfC, YC, XC, weightC, NC, KC, X_colsC, Y_var, weight_var)\n",
    "beta_starsC    = get_stars(betaC, beta_SEC)"
   ]
  },
  {
   "cell_type": "markdown",
   "metadata": {},
   "source": [
    "### Output Results to Latex"
   ]
  },
  {
   "cell_type": "code",
   "execution_count": 12,
   "metadata": {},
   "outputs": [],
   "source": [
    "beta_dfC = pd.DataFrame.from_dict({\"Variable\":X_colsC,\n",
    "                                   \"Coefficient\":[str(np.round(betaC.ravel()[i],3))+beta_starsC[i] \n",
    "                                                  for i in range(betaC.shape[0])],\n",
    "                                   \"Standard Error\":np.round(beta_SEC,3)})\n",
    "beta_dfC = beta_dfC[(beta_dfC['Variable'] == '_DDdid1_2') |\n",
    "                    (beta_dfC['Variable'] == '_DDdid1_4') |\n",
    "                    (beta_dfC['Variable'] == '_DDdid1_5') | \n",
    "                    (beta_dfC['Variable'] == '_DDdid1_6')]\n",
    "beta_dfC[\"Variable\"] = [\"Years -6 to -2\",\"Years 0 to 4\",\"Years 5 to 9\",\"Years 10 to 14\"]\n",
    "beta_dfC.to_latex(\"./q8_replication_output/q8c_table.tex\", index=False)"
   ]
  },
  {
   "cell_type": "code",
   "execution_count": 13,
   "metadata": {},
   "outputs": [
    {
     "data": {
      "text/html": [
       "<div>\n",
       "<style scoped>\n",
       "    .dataframe tbody tr th:only-of-type {\n",
       "        vertical-align: middle;\n",
       "    }\n",
       "\n",
       "    .dataframe tbody tr th {\n",
       "        vertical-align: top;\n",
       "    }\n",
       "\n",
       "    .dataframe thead th {\n",
       "        text-align: right;\n",
       "    }\n",
       "</style>\n",
       "<table border=\"1\" class=\"dataframe\">\n",
       "  <thead>\n",
       "    <tr style=\"text-align: right;\">\n",
       "      <th></th>\n",
       "      <th>Variable</th>\n",
       "      <th>Coefficient</th>\n",
       "      <th>Standard Error</th>\n",
       "    </tr>\n",
       "  </thead>\n",
       "  <tbody>\n",
       "    <tr>\n",
       "      <th>30</th>\n",
       "      <td>Years -6 to -2</td>\n",
       "      <td>2.49</td>\n",
       "      <td>2.829</td>\n",
       "    </tr>\n",
       "    <tr>\n",
       "      <th>31</th>\n",
       "      <td>Years 0 to 4</td>\n",
       "      <td>-6.42*</td>\n",
       "      <td>3.460</td>\n",
       "    </tr>\n",
       "    <tr>\n",
       "      <th>32</th>\n",
       "      <td>Years 5 to 9</td>\n",
       "      <td>-10.022**</td>\n",
       "      <td>4.321</td>\n",
       "    </tr>\n",
       "    <tr>\n",
       "      <th>33</th>\n",
       "      <td>Years 10 to 14</td>\n",
       "      <td>-2.651</td>\n",
       "      <td>5.087</td>\n",
       "    </tr>\n",
       "  </tbody>\n",
       "</table>\n",
       "</div>"
      ],
      "text/plain": [
       "          Variable Coefficient  Standard Error\n",
       "30  Years -6 to -2        2.49           2.829\n",
       "31    Years 0 to 4      -6.42*           3.460\n",
       "32    Years 5 to 9   -10.022**           4.321\n",
       "33  Years 10 to 14      -2.651           5.087"
      ]
     },
     "execution_count": 13,
     "metadata": {},
     "output_type": "execute_result"
    }
   ],
   "source": [
    "beta_dfC"
   ]
  },
  {
   "cell_type": "markdown",
   "metadata": {},
   "source": [
    "# Q8(d) - Alternate Versions of Figure 5"
   ]
  },
  {
   "cell_type": "markdown",
   "metadata": {},
   "source": [
    "### Set Up New Dataset for 3rd Regression on Early CHCs through 1998"
   ]
  },
  {
   "cell_type": "code",
   "execution_count": 41,
   "metadata": {},
   "outputs": [],
   "source": [
    "# dfc = make_aer_data(pre1998=False)\n",
    "# dfc = dfc[~((dfc.fips==24510) | (dfc.fips == 51013)) & (dfc.samp8998 == True)]"
   ]
  },
  {
   "cell_type": "markdown",
   "metadata": {},
   "source": [
    "### Run Regressions"
   ]
  },
  {
   "cell_type": "code",
   "execution_count": 51,
   "metadata": {},
   "outputs": [],
   "source": [
    "# Define covariates to use - this time without year-urban interaction FEs\n",
    "_Texp1_cols = [col for col in df if col.startswith('_Texp1')]\n",
    "_Texp2_cols = [col for col in df if col.startswith('_Texp2')]\n",
    "# _Texp3_cols = [col for col in df if col.startswith('_Texp3')]\n",
    "X_colsD1a   = _Iyear_cols+_IyeaXDu_cols+_Texp1_cols\n",
    "X_colsD1b   = _Iyear_cols+_IyeaXDu_cols+_Texp2_cols\n",
    "# X_colsD1c   = _Iyear_cols+_IyeaXDu_cols+_Texp3_cols\n",
    "X_colsD2a   = _Iyear_cols+_Texp1_cols\n",
    "X_colsD2b   = _Iyear_cols+_Texp2_cols\n",
    "# X_colsD2c   = _Iyear_cols+_Texp3_cols\n",
    "\n",
    "# Get matrices for running regressions\n",
    "YD1a,XD1a,weightD1a,ND1a,KD1a,fe_dfD1a = get_XY_arrays(df,  X_colsD1a, Y_var, weight_var, clust_var)\n",
    "YD1b,XD1b,weightD1b,ND1b,KD1b,fe_dfD1b = get_XY_arrays(df,  X_colsD1b, Y_var, weight_var, clust_var)\n",
    "# YD1c,XD1c,weightD1c,ND1c,KD1c,fe_dfD1c = get_XY_arrays(dfc, X_colsD1c, Y_var, weight_var, clust_var)\n",
    "\n",
    "YD2a,XD2a,weightD2a,ND2a,KD2a,fe_dfD2a = get_XY_arrays(df,  X_colsD2a, Y_var, weight_var, clust_var)\n",
    "YD2b,XD2b,weightD2b,ND2b,KD2b,fe_dfD2b = get_XY_arrays(df,  X_colsD2b, Y_var, weight_var, clust_var)\n",
    "# YD2c,XD2c,weightD2c,ND2c,KD2c,fe_dfD2c = get_XY_arrays(dfc, X_colsD2c, Y_var, weight_var, clust_var)"
   ]
  },
  {
   "cell_type": "code",
   "execution_count": 52,
   "metadata": {},
   "outputs": [],
   "source": [
    "# Run regressions\n",
    "betaD1a,beta_SED1a = run_aer_regression(fe_dfD1a, YD1a, XD1a, weightD1a, ND1a, KD1a, X_colsD1a, Y_var, weight_var)\n",
    "betaD1b,beta_SED1b = run_aer_regression(fe_dfD1b, YD1b, XD1b, weightD1b, ND1b, KD1b, X_colsD1b, Y_var, weight_var)\n",
    "# betaD1c,beta_SED1c = run_aer_regression(fe_dfD1c, YD1c, XD1c, weightD1c, ND1c, KD1c, X_colsD1c, Y_var, weight_var)\n",
    "\n",
    "betaD2a,beta_SED2a = run_aer_regression(fe_dfD2a, YD2a, XD2a, weightD2a, ND2a, KD2a, X_colsD2a, Y_var, weight_var)\n",
    "betaD2b,beta_SED2b = run_aer_regression(fe_dfD2b, YD2b, XD2b, weightD2b, ND2b, KD2b, X_colsD2b, Y_var, weight_var)\n",
    "# betaD2c,beta_SED2c = run_aer_regression(fe_dfD2c, YD2c, XD2c, weightD2c, ND2c, KD2c, X_colsD2c, Y_var, weight_var)"
   ]
  },
  {
   "cell_type": "markdown",
   "metadata": {},
   "source": [
    "### Format Results for Graphing"
   ]
  },
  {
   "cell_type": "code",
   "execution_count": 53,
   "metadata": {},
   "outputs": [],
   "source": [
    "# Make dataframe of coefs and standard errors\n",
    "beta_dfD1a = pd.DataFrame.from_dict({\"Variable\":X_colsD1a,\n",
    "                                     \"Coefficient\":np.round(betaD1a.ravel(),4),\n",
    "                                     \"Standard Error\":np.round(beta_SED1a,4)})\n",
    "beta_dfD1b = pd.DataFrame.from_dict({\"Variable\":X_colsD1b,\n",
    "                                     \"Coefficient\":np.round(betaD1b.ravel(),4),\n",
    "                                     \"Standard Error\":np.round(beta_SED1b,4),})\n",
    "# beta_dfD1c = pd.DataFrame.from_dict({\"Variable\":X_colsD1c,\n",
    "#                                      \"Coefficient\":np.round(betaD1c.ravel(),4),\n",
    "#                                      \"Standard Error\":np.round(beta_SED1c,4),})\n",
    "beta_dfD2a = pd.DataFrame.from_dict({\"Variable\":X_colsD2a,\n",
    "                                     \"Coefficient\":np.round(betaD2a.ravel(),4),\n",
    "                                     \"Standard Error\":np.round(beta_SED2a,4)})\n",
    "beta_dfD2b = pd.DataFrame.from_dict({\"Variable\":X_colsD2b,\n",
    "                                     \"Coefficient\":np.round(betaD2b.ravel(),4),\n",
    "                                     \"Standard Error\":np.round(beta_SED2b,4),})\n",
    "# beta_dfD2c = pd.DataFrame.from_dict({\"Variable\":X_colsD2c,\n",
    "#                                      \"Coefficient\":np.round(betaD2c.ravel(),4),\n",
    "#                                      \"Standard Error\":np.round(beta_SED2c,4),})\n",
    "\n",
    "beta_dfD1a = beta_dfD1a[beta_dfD1a['Variable'].str.contains('_Texp')]\n",
    "beta_dfD1b = beta_dfD1b[beta_dfD1b['Variable'].str.contains('_Texp')]\n",
    "# beta_dfD1c = beta_dfD1c[beta_dfD1c['Variable'].str.contains('_Texp')]\n",
    "beta_dfD2a = beta_dfD2a[beta_dfD2a['Variable'].str.contains('_Texp')]\n",
    "beta_dfD2b = beta_dfD2b[beta_dfD2b['Variable'].str.contains('_Texp')]\n",
    "# beta_dfD2c = beta_dfD2c[beta_dfD2c['Variable'].str.contains('_Texp')]\n",
    "\n",
    "# Force _Texp1_7 to be 0\n",
    "newrowa    = pd.DataFrame({'Variable':['_Texp1_7'],'Coefficient':[0.0],'Standard Error':[np.nan]})\n",
    "newrowb    = pd.DataFrame({'Variable':['_Texp2_7'],'Coefficient':[0.0],'Standard Error':[np.nan]})\n",
    "newrowc    = pd.DataFrame({'Variable':['_Texp3_7'],'Coefficient':[0.0],'Standard Error':[np.nan]})\n",
    "beta_dfD1a = pd.concat((beta_dfD1a,newrowa))\n",
    "beta_dfD2a = pd.concat((beta_dfD2a,newrowa))\n",
    "beta_dfD1b = pd.concat((beta_dfD1b,newrowb))\n",
    "beta_dfD2b = pd.concat((beta_dfD2b,newrowb))\n",
    "# beta_dfD1c = pd.concat((beta_dfD1c,newrowb))\n",
    "# beta_dfD2c = pd.concat((beta_dfD2c,newrowb))\n",
    "\n",
    "# Make time variable for graphs\n",
    "beta_dfD1a['Time'] = beta_dfD1a['Variable'].str.extract(r'_([0-9]+)$').astype(int)\n",
    "beta_dfD2a['Time'] = beta_dfD2a['Variable'].str.extract(r'_([0-9]+)$').astype(int)\n",
    "beta_dfD1b['Time'] = beta_dfD1b['Variable'].str.extract(r'_([0-9]+)$').astype(int)\n",
    "beta_dfD2b['Time'] = beta_dfD2b['Variable'].str.extract(r'_([0-9]+)$').astype(int)\n",
    "# beta_dfD1c['Time'] = beta_dfD1c['Variable'].str.extract(r'_([0-9]+)$').astype(int)\n",
    "# beta_dfD2c['Time'] = beta_dfD2c['Variable'].str.extract(r'_([0-9]+)$').astype(int)\n",
    "\n",
    "beta_dfD1a = beta_dfD1a.sort_values('Time').reset_index(drop=True)\n",
    "beta_dfD2a = beta_dfD2a.sort_values('Time').reset_index(drop=True)\n",
    "beta_dfD1b = beta_dfD1b.sort_values('Time').reset_index(drop=True)\n",
    "beta_dfD2b = beta_dfD2b.sort_values('Time').reset_index(drop=True)\n",
    "# beta_dfD1c = beta_dfD1c.sort_values('Time').reset_index(drop=True)\n",
    "# beta_dfD2c = beta_dfD2c.sort_values('Time').reset_index(drop=True)\n",
    "\n",
    "beta_dfD1a['Time'] = beta_dfD1a['Time']-8\n",
    "beta_dfD2a['Time'] = beta_dfD2a['Time']-8\n",
    "beta_dfD1b['Time'] = beta_dfD1b['Time']-8\n",
    "beta_dfD2b['Time'] = beta_dfD2b['Time']-8\n",
    "# beta_dfD1c['Time'] = beta_dfD1c['Time']-8\n",
    "# beta_dfD2c['Time'] = beta_dfD2c['Time']-8\n",
    "\n",
    "# Get upper and lower confidence bounds\n",
    "beta_dfD1a['Upper CI'] = beta_dfD1a['Coefficient']+1.96*beta_dfD1a['Standard Error']\n",
    "beta_dfD1a['Lower CI'] = beta_dfD1a['Coefficient']-1.96*beta_dfD1a['Standard Error']\n",
    "beta_dfD2a['Upper CI'] = beta_dfD2a['Coefficient']+1.96*beta_dfD2a['Standard Error']\n",
    "beta_dfD2a['Lower CI'] = beta_dfD2a['Coefficient']-1.96*beta_dfD2a['Standard Error']"
   ]
  },
  {
   "cell_type": "markdown",
   "metadata": {},
   "source": [
    "### Make Graphs"
   ]
  },
  {
   "cell_type": "code",
   "execution_count": 54,
   "metadata": {
    "scrolled": false
   },
   "outputs": [
    {
     "data": {
      "image/png": "[encoded data removed]",
      "text/plain": [
       "<Figure size 648x1008 with 2 Axes>"
      ]
     },
     "metadata": {
      "needs_background": "light"
     },
     "output_type": "display_data"
    }
   ],
   "source": [
    "fig,ax = plt.subplots(nrows=2,ncols=1,figsize=(9,14))\n",
    "ax     = ax.flatten()\n",
    "\n",
    "# Formatting stuff\n",
    "plt.subplots_adjust(top=0.92)\n",
    "ax[0].spines['top'].set_visible(False)\n",
    "ax[0].spines['right'].set_visible(False)\n",
    "ax[1].spines['top'].set_visible(False)\n",
    "ax[1].spines['right'].set_visible(False)\n",
    "\n",
    "# Plot 1 main stuff\n",
    "ax[0].plot(beta_dfD1a['Time'], beta_dfD1a['Coefficient'], color='blue')\n",
    "ax[0].scatter(beta_dfD1a['Time'], beta_dfD1a['Coefficient'], color='blue')\n",
    "ax[0].plot(beta_dfD1a['Time'], beta_dfD1a['Upper CI'], linestyle='dashed', color='blue')\n",
    "ax[0].plot(beta_dfD1a['Time'], beta_dfD1a['Lower CI'], linestyle='dashed', color='blue')\n",
    "ax[0].plot(beta_dfD1b['Time'], beta_dfD1b['Coefficient'], color='red')\n",
    "ax[0].scatter(beta_dfD1b['Time'], beta_dfD1b['Coefficient'], color='red')\n",
    "# ax[0].plot(beta_dfD1c['Time'], beta_dfD1c['Coefficient'], color='green')\n",
    "# ax[0].scatter(beta_dfD1c['Time'], beta_dfD1c['Coefficient'], color='green')\n",
    "\n",
    "# Plot 2 main stuff\n",
    "ax[1].plot(beta_dfD2a['Time'], beta_dfD2a['Coefficient'], color='blue')\n",
    "ax[1].scatter(beta_dfD2a['Time'], beta_dfD2a['Coefficient'], color='blue')\n",
    "ax[1].plot(beta_dfD2a['Time'], beta_dfD2a['Upper CI'], linestyle='dashed', color='blue')\n",
    "ax[1].plot(beta_dfD2a['Time'], beta_dfD2a['Lower CI'], linestyle='dashed', color='blue')\n",
    "ax[1].plot(beta_dfD2b['Time'], beta_dfD2b['Coefficient'], color='red')\n",
    "ax[1].scatter(beta_dfD2b['Time'], beta_dfD2b['Coefficient'], color='red')\n",
    "# ax[1].plot(beta_dfD2c['Time'], beta_dfD2c['Coefficient'], color='green')\n",
    "# ax[1].scatter(beta_dfD2c['Time'], beta_dfD2c['Coefficient'], color='green')\n",
    "\n",
    "# Vertical/horizontal lines\n",
    "ax[0].axhline(y=0, color='black', linestyle='solid', alpha=0.8)\n",
    "ax[0].axvline(x=0, color='black', linestyle='solid', alpha=0.8)\n",
    "ax[1].axhline(y=0, color='black', linestyle='solid', alpha=0.8)\n",
    "ax[1].axvline(x=0, color='black', linestyle='solid', alpha=0.8)\n",
    "\n",
    "# Axis mess\n",
    "ax[0].set_xticks(np.arange(-7,16,1))\n",
    "ax[0].set_yticks(np.arange(-30,22,4))\n",
    "ax[0].set_xlabel(\"Years Since CHC Establishment\", size=14)\n",
    "ax[0].set_ylabel(\"Effect on Age-Adjusted Mortality Rate\", size=14)\n",
    "ax[1].set_xticks(np.arange(-7,16,1))\n",
    "ax[1].set_yticks(np.arange(-30,22,4))\n",
    "ax[1].set_xlabel(\"Years Since CHC Establishment\", size=14)\n",
    "ax[1].set_ylabel(\"Effect on Age-Adjusted Mortality Rate\", size=14)\n",
    "\n",
    "# Titles\n",
    "ax[0].set_title(\"Including Urban-Year Interaction FEs\", size=17)\n",
    "ax[1].set_title(\"\\n\\nExcluding Urban-Year Interaction FEs\", size=17)\n",
    "plt.suptitle(\"Figure 5 Under Alternate Specifications\", size=25)\n",
    "\n",
    "plt.savefig(\"./q8_replication_output/figure5_alt.png\")\n",
    "plt.show()"
   ]
  },
  {
   "cell_type": "markdown",
   "metadata": {},
   "source": [
    "# Q8(e) - Direct Approach"
   ]
  },
  {
   "cell_type": "code",
   "execution_count": 93,
   "metadata": {},
   "outputs": [],
   "source": [
    "df = make_aer_data()"
   ]
  },
  {
   "cell_type": "code",
   "execution_count": 109,
   "metadata": {},
   "outputs": [],
   "source": [
    "def run_simple_regression(X,Y,weight):\n",
    "    beta = np.linalg.inv(np.multiply(X,weight).T @ X) @ np.multiply(X,weight).T @ Y\n",
    "    return beta"
   ]
  },
  {
   "cell_type": "code",
   "execution_count": 94,
   "metadata": {},
   "outputs": [],
   "source": [
    "# COHORT = chc_year_exp\n",
    "# TIME = year\n",
    "# UNIT = fips"
   ]
  },
  {
   "cell_type": "code",
   "execution_count": 95,
   "metadata": {},
   "outputs": [],
   "source": [
    "# Fix never treated to have cohort = infinity\n",
    "df['cohort'] = np.where(df['chc_year_exp'].isna(), np.inf, df['chc_year_exp'])"
   ]
  },
  {
   "cell_type": "code",
   "execution_count": 96,
   "metadata": {},
   "outputs": [],
   "source": [
    "# EARLIEST YEAR IN DATA = 1959\n",
    "# LATEST YEAR IN DATA   = 1988\n",
    "# EARLIEST COHORT       = 1965\n",
    "# LATEST COHORT         = 1980 (plus never treateds)\n",
    "\n",
    "t1 = 1978\n",
    "for i in range(e1)\n",
    "e1 = 1974\n"
   ]
  },
  {
   "cell_type": "code",
   "execution_count": 117,
   "metadata": {},
   "outputs": [],
   "source": [
    "# Make data frame for regression\n",
    "df['kit1'] = (((df['year'] < e1) | (df['year'] == t1)) & ((df['cohort'] == e1) | (df['cohort'] > t1))).astype(int)\n",
    "df_kit1    = copy.deepcopy(df[df['kit1'] == 1])\n",
    "\n",
    "# Make indicator variables for regression\n",
    "df_kit1['t1_ind']    = (df_kit1['year'] == t1).astype(int)\n",
    "df_kit1['e1_ind']    = (df_kit1['cohort'] == e1).astype(int)\n",
    "df_kit1['t1_e1_ind'] = ((df_kit1['year'] == t1) & (df_kit1['cohort'] == e1)).astype(int)\n",
    "\n",
    "# Build matrices for running regression\n",
    "X_colsE = ['_const','t1_ind','e1_ind','t1_e1_ind']\n",
    "XE      = np.array(df_kit1[X_colsE])\n",
    "YE      = np.array(df_kit1[Y_var])[:,None]\n",
    "weightE = np.array(df_kit1[weight_var])[:,None]\n",
    "\n",
    "# Get ATT_t(e)\n",
    "att = run_simple_regression(XE,YE,weightE)[-1,0]\n",
    "att"
   ]
  },
  {
   "cell_type": "code",
   "execution_count": null,
   "metadata": {},
   "outputs": [],
   "source": []
  },
  {
   "cell_type": "code",
   "execution_count": null,
   "metadata": {},
   "outputs": [],
   "source": []
  },
  {
   "cell_type": "code",
   "execution_count": null,
   "metadata": {},
   "outputs": [],
   "source": []
  },
  {
   "cell_type": "code",
   "execution_count": null,
   "metadata": {},
   "outputs": [],
   "source": []
  }
 ],
 "metadata": {
  "kernelspec": {
   "display_name": "Python 3",
   "language": "python",
   "name": "python3"
  },
  "language_info": {
   "codemirror_mode": {
    "name": "ipython",
    "version": 3
   },
   "file_extension": ".py",
   "mimetype": "text/x-python",
   "name": "python",
   "nbconvert_exporter": "python",
   "pygments_lexer": "ipython3",
   "version": "3.8.5"
  }
 },
 "nbformat": 4,
 "nbformat_minor": 4
}
