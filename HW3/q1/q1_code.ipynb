{
 "cells": [
  {
   "cell_type": "code",
   "execution_count": 1,
   "metadata": {},
   "outputs": [],
   "source": [
    "import pandas as pd\n",
    "import numpy as np\n",
    "import scipy.optimize\n",
    "import matplotlib.pyplot as plt\n",
    "from scipy.stats import norm"
   ]
  },
  {
   "cell_type": "markdown",
   "metadata": {},
   "source": [
    "# Import and Clean Data"
   ]
  },
  {
   "cell_type": "code",
   "execution_count": 2,
   "metadata": {},
   "outputs": [],
   "source": [
    "# Define variables used in Table 2 analysis\n",
    "yvar          = 'amount_weekly'\n",
    "endogvar      = 'jikokoa'\n",
    "instrument    = 'price_USD'\n",
    "clustervar    = 'respondent_id'\n",
    "base_controls = ['d_charcoalbuy_KSH', 'spend50', 'savings_KSH', 'b_incomeself_KSH', 'RiskAverse', \n",
    "                 'CreditConstrained', 'b_residents','b_children', 'd_jikokoalast_years',\n",
    "                 'v1_beliefs_annual_mean', 'v1_beliefs_annual_sd', '_const']"
   ]
  },
  {
   "cell_type": "code",
   "execution_count": 3,
   "metadata": {},
   "outputs": [],
   "source": [
    "def import_and_clean_data(yvar,endogvar,instrument,clustervar,base_controls):\n",
    "\n",
    "    # Import pre-cleaned data\n",
    "    smsdf = pd.read_stata('./berkouwer_dean_replication/Data/Clean/SMS_clean_sms_replication.dta')\n",
    "    v2df  = pd.read_stata('./berkouwer_dean_replication/Data/Clean/Visit123_analysis_replication_noPII.dta')\n",
    "    v2df['_const'] = 1.0\n",
    "    \n",
    "    # Make treatment dummies in v2 dataframe\n",
    "    v2df['I_treata_1'] = (v2df.treata == 1.).astype(int)\n",
    "    v2df['I_treata_2'] = (v2df.treata == 2.).astype(int)\n",
    "    v2df['I_treatc_1'] = (v2df.treatc == 1.).astype(int)\n",
    "    v2df['I_treatc_2'] = (v2df.treatc == 2.).astype(int)\n",
    "    treat_indicators   = ['I_treata_1','I_treata_2','I_treatc_1','I_treatc_2']\n",
    "\n",
    "    # First stage df drops those with no visit 3 information\n",
    "    df_fs = v2df[v2df.Visit3 == 1]\n",
    "\n",
    "    # Subset by dates in SMS dataframe\n",
    "    smsdf = smsdf[~smsdf.midline_date.isnull()]\n",
    "    smsdf = smsdf[~smsdf.SMS_date.isnull()]\n",
    "    smsdf = smsdf[smsdf.midline_date < smsdf.SMS_date]\n",
    "\n",
    "    # Merge the dataframes together\n",
    "    df = pd.merge(smsdf, v2df[v2df.Visit2 == 1], on='respondent_id', how='inner')\n",
    "    \n",
    "    # Impute mean for missing sms_amount_weekly_pre\n",
    "    df.rename(columns={'sms_amount_weekly_pre_USD':'sms_amount_weekly_pre'}, inplace=True)\n",
    "    subset   = df.sms_amount_weekly_pre.isna()\n",
    "    amt_mean = np.mean(df[~subset]['sms_amount_weekly_pre'])\n",
    "    df.loc[subset,'sms_amount_weekly_pre'] = amt_mean\n",
    "\n",
    "    # Winsorize amount_weekly at 99% and convert to USD\n",
    "    p99 = df.amount_weekly.quantile(0.99)\n",
    "    df['amount_weekly'] = np.where(df.amount_weekly > p99,\n",
    "                                   p99, df.amount_weekly)\n",
    "    df['amount_weekly'] = df.amount_weekly/100.\n",
    "\n",
    "    # Make TsinceV2 variables\n",
    "    cmax = np.max(df['CsinceV2'].unique())\n",
    "    for i in np.arange(1,cmax+1):\n",
    "        df['TsinceV2_'+str(i)] = (df.TsinceV2 == i).astype(int)\n",
    "    TsinceV2_indicators = [col for col in df.columns if 'TsinceV2_' in col]\n",
    "\n",
    "    # Make SMS date dummies\n",
    "    for i,dt in enumerate(np.sort(df.SMS_date.unique())):\n",
    "        if (i != 0):\n",
    "            df[f\"_Idate_{i}\"] = np.where(df.SMS_date == dt, 1.0, 0.0)\n",
    "    SMSdate_indicators = [col for col in df.columns if '_Idate_' in col]\n",
    "    \n",
    "    # Define controls for each regression - WHY DO THEY DO THE FIRST STAGE SEPARATELY LIKE THIS?!\n",
    "    xvars    = [endogvar,'finwtp_USD','sms_amount_weekly_pre']+SMSdate_indicators+TsinceV2_indicators+ \\\n",
    "               treat_indicators+base_controls\n",
    "    xvars_fs = [instrument,'finwtp_USD']+treat_indicators+base_controls\n",
    "    \n",
    "    # Drop data with missing variables from full df\n",
    "    for xvar in xvars:\n",
    "        df = df[~(df[xvar].isnull()) & ~(df[xvar] == '')]\n",
    "    df = df[~(df[yvar].isnull()) & ~(df[xvar] == '')]\n",
    "    df = df[~(df[clustervar].isnull()) & ~(df[xvar] == '')]\n",
    "    \n",
    "    # Drop data with missing variables from first stage df\n",
    "    for xvar in xvars_fs:\n",
    "        df_fs = df_fs[~(df_fs[xvar].isnull()) & ~(df_fs[xvar] == '')]\n",
    "    df_fs = df_fs[~(df_fs[endogvar].isnull()) & ~(df_fs[xvar] == '')]\n",
    "    df_fs = df_fs[~(df_fs[clustervar].isnull()) & ~(df_fs[xvar] == '')]\n",
    "\n",
    "    # Return full df and first stage df, plus x-variables used\n",
    "    return df[[yvar,clustervar,instrument]+xvars], df_fs[[endogvar,clustervar]+xvars_fs], xvars, xvars_fs"
   ]
  },
  {
   "cell_type": "code",
   "execution_count": 4,
   "metadata": {},
   "outputs": [],
   "source": [
    "df,df_fs,xvars,xvars_fs = import_and_clean_data(yvar,endogvar,instrument,clustervar,base_controls)"
   ]
  },
  {
   "cell_type": "markdown",
   "metadata": {},
   "source": [
    "# Q1(c) - First-Stage F-Statistic"
   ]
  },
  {
   "cell_type": "markdown",
   "metadata": {},
   "source": [
    "### Helper Functions"
   ]
  },
  {
   "cell_type": "code",
   "execution_count": 5,
   "metadata": {},
   "outputs": [],
   "source": [
    "def run_ols_reg(df,yvar,xvars,clustervar):\n",
    "    \n",
    "    regdf = df.copy()\n",
    "    \n",
    "    # Get matrices and parameters\n",
    "    X = regdf[xvars].to_numpy()\n",
    "    Y = regdf[yvar].to_numpy()[:,None]\n",
    "    N = X.shape[0]\n",
    "    K = X.shape[1]\n",
    "\n",
    "    # Get coefficient vector\n",
    "    beta = np.linalg.inv(X.T @ X) @ X.T @ Y\n",
    "    \n",
    "    # Build the 'meat' of the cluster sandwich SE estimator\n",
    "    clust_cov_sum = np.zeros((K,K))\n",
    "    for clust in np.sort(regdf[clustervar].unique()):\n",
    "\n",
    "        # Define data just from that cluster\n",
    "        regdf_clust = regdf[regdf[clustervar] == clust]\n",
    "        X_clust     = regdf_clust[xvars].to_numpy()\n",
    "        y_clust     = regdf_clust[yvar].to_numpy()[:,None]\n",
    "\n",
    "        # Do cluster robust SE formula\n",
    "        u_j       = (y_clust - X_clust @ beta)\n",
    "        clust_cov = X_clust.T @ u_j @ u_j.T @ X_clust\n",
    "        clust_cov_sum += clust_cov\n",
    "\n",
    "    # Get (X'X)^(-1): the 'bread' of the sandwich\n",
    "    vcov = np.linalg.inv(X.T @ X)\n",
    "\n",
    "    # Finite-sample correction\n",
    "    n_clust = regdf[clustervar].unique().shape[0]\n",
    "    qc      = (n_clust/(n_clust-1))*(N/(N-K))\n",
    "    \n",
    "    # Get standard errors of betas\n",
    "    beta_SE = np.sqrt(np.diag(qc * vcov @ clust_cov_sum @ vcov))\n",
    "\n",
    "    return beta.ravel(),beta_SE"
   ]
  },
  {
   "cell_type": "code",
   "execution_count": 6,
   "metadata": {},
   "outputs": [],
   "source": [
    "def run_iv_reg(df,yvar,xvars,clustervar,instrument):\n",
    "    \n",
    "    regdf = df.copy()\n",
    "\n",
    "    # Get matrices and parameters\n",
    "    X = regdf[xvars].to_numpy()\n",
    "    Y = regdf[yvar].to_numpy()[:,None]\n",
    "    F = regdf[[instrument]+xvars[1:]].to_numpy()\n",
    "    N = X.shape[0]\n",
    "    K = X.shape[1]\n",
    "\n",
    "    # Get regression onto fitted values\n",
    "    PF     = F @ np.linalg.inv(F.T @ F) @ F.T\n",
    "    Xtilde = PF @ X\n",
    "\n",
    "    # Get coefficient vector\n",
    "    beta_iv = np.linalg.inv(Xtilde.T @ Xtilde) @ Xtilde.T @ Y\n",
    "\n",
    "    # Build the 'meat' of the cluster sandwich SE estimator\n",
    "    clust_cov_sum = np.zeros((K,K))\n",
    "    for clust in np.sort(regdf[clustervar].unique()):\n",
    "\n",
    "        # Define data just from that cluster\n",
    "        clust_idx = (regdf[clustervar] == clust).to_numpy()\n",
    "        X_clust   = Xtilde[clust_idx,:]\n",
    "        y_clust   = Y[clust_idx]\n",
    "\n",
    "        # Do cluster robust SE formula\n",
    "        u_j       = (y_clust - X_clust @ beta_iv)\n",
    "        clust_cov = X_clust.T @ u_j @ u_j.T @ X_clust\n",
    "        clust_cov_sum += clust_cov\n",
    "\n",
    "    # Get (X'X)^(-1): the 'bread' of the sandwich\n",
    "    vcov = np.linalg.inv(Xtilde.T @ Xtilde)\n",
    "\n",
    "    # Finite-sample correction\n",
    "    n_clust = regdf[clustervar].unique().shape[0]\n",
    "    qc      = (n_clust/(n_clust-1))*(N/(N-K))\n",
    "\n",
    "    # Get standard errors of betas\n",
    "    beta_SE_iv = np.sqrt(np.diag(qc * vcov @ clust_cov_sum @ vcov))\n",
    "    \n",
    "    return beta_iv.ravel(),beta_SE_iv"
   ]
  },
  {
   "cell_type": "markdown",
   "metadata": {},
   "source": [
    "### Replicate Results in Table 2, Columns 1-3"
   ]
  },
  {
   "cell_type": "code",
   "execution_count": 7,
   "metadata": {},
   "outputs": [
    {
     "name": "stdout",
     "output_type": "stream",
     "text": [
      "Table 2, Column 1:\n",
      "\tEstimate on jikokoa: -1.8943 (0.2783)\n",
      "\tEstimate on price_USD: 0.006 (0.0128)\n",
      "\tEstimate on finwtp_USD: -0.005 (0.0092)\n"
     ]
    }
   ],
   "source": [
    "# OLS regression (column 1 of Table 2) - note controls here are different\n",
    "xvars_ols            = [endogvar,instrument,'finwtp_USD']+base_controls\n",
    "beta_ols,beta_SE_ols = run_ols_reg(df,yvar,xvars_ols,clustervar)\n",
    "\n",
    "# Print results\n",
    "print(\"Table 2, Column 1:\")\n",
    "for i in range(3):\n",
    "    print(f\"\\tEstimate on {xvars_ols[i]}: {np.round(beta_ols[i],4)} ({np.round(beta_SE_ols[i],4)})\")"
   ]
  },
  {
   "cell_type": "code",
   "execution_count": 8,
   "metadata": {},
   "outputs": [
    {
     "name": "stdout",
     "output_type": "stream",
     "text": [
      "Table 2, Column 2:\n",
      "\tEstimate on price_USD: -0.0288 (0.0012)\n",
      "\tEstimate on finwtp_USD: 0.0244 (0.001)\n"
     ]
    }
   ],
   "source": [
    "# First-stage regression (column 2 of Table 2)\n",
    "beta_fs,beta_SE_fs = run_ols_reg(df_fs,endogvar,xvars_fs,clustervar)\n",
    "\n",
    "# Print results\n",
    "print(\"Table 2, Column 2:\")\n",
    "for i in range(2):\n",
    "    print(f\"\\tEstimate on {xvars_fs[i]}: {np.round(beta_fs[i],4)} ({np.round(beta_SE_fs[i],4)})\")"
   ]
  },
  {
   "cell_type": "code",
   "execution_count": 9,
   "metadata": {},
   "outputs": [
    {
     "name": "stdout",
     "output_type": "stream",
     "text": [
      "Table 2, Column 3:\n",
      "\tEstimate on jikokoa: -2.2774 (0.3068)\n",
      "\tEstimate on finwtp_USD: -0.0032 (0.0113)\n"
     ]
    }
   ],
   "source": [
    "# 2SLS regression (column 3 of Table 2)\n",
    "beta_iv,beta_SE_iv = run_iv_reg(df, yvar, xvars, clustervar, instrument)\n",
    "\n",
    "# Print results\n",
    "print(\"Table 2, Column 3:\")\n",
    "for i in range(2):\n",
    "    print(f\"\\tEstimate on {xvars[i]}: {np.round(beta_iv[i],4)} ({np.round(beta_SE_iv[i],4)})\")"
   ]
  },
  {
   "cell_type": "markdown",
   "metadata": {},
   "source": [
    "### Get F-statistic "
   ]
  },
  {
   "cell_type": "code",
   "execution_count": 10,
   "metadata": {},
   "outputs": [
    {
     "data": {
      "text/plain": [
       "571.5559751801592"
      ]
     },
     "execution_count": 10,
     "metadata": {},
     "output_type": "execute_result"
    }
   ],
   "source": [
    "beta_fs1,beta_SE_fs1 = run_ols_reg(df_fs, endogvar, xvars_fs, clustervar)\n",
    "Fstat1 = (beta_fs1/beta_SE_fs1)**2\n",
    "Fstat1[0]"
   ]
  },
  {
   "cell_type": "code",
   "execution_count": 11,
   "metadata": {},
   "outputs": [
    {
     "data": {
      "text/plain": [
       "439.748179022805"
      ]
     },
     "execution_count": 11,
     "metadata": {},
     "output_type": "execute_result"
    }
   ],
   "source": [
    "beta_fs2,beta_SE_fs2 = run_ols_reg(df, endogvar, xvars_fs, clustervar)\n",
    "Fstat2 = (beta_fs2/beta_SE_fs2)**2\n",
    "Fstat2[0]"
   ]
  },
  {
   "cell_type": "markdown",
   "metadata": {},
   "source": [
    "# Q1(d) - Anderson-Rubin Confidence Interval"
   ]
  },
  {
   "cell_type": "code",
   "execution_count": 12,
   "metadata": {},
   "outputs": [],
   "source": [
    "def quick_ols(Y, X, C, clusters):\n",
    "    \n",
    "    # Parameters \n",
    "    N = X.shape[0]\n",
    "    K = X.shape[1]\n",
    "    nclust = len(clusters)\n",
    "    \n",
    "    # Get beta coefficient\n",
    "    beta = (np.linalg.inv(X.T @ X) @ X.T @ Y).ravel()\n",
    "    \n",
    "    # Clustered standard errors\n",
    "    clust_cov_sum = np.zeros((K, K))\n",
    "    for clust in clusters:\n",
    "        clust_idx = (C == clust).ravel()\n",
    "        X_clust   = X[clust_idx,:]\n",
    "        Y_clust   = Y[clust_idx]\n",
    "        u_j       = (Y_clust - X_clust @ beta[:,None])\n",
    "        clust_cov = X_clust.T @ u_j @ u_j.T @ X_clust\n",
    "        clust_cov_sum += clust_cov\n",
    "    vcov    = np.linalg.inv(X.T @ X)\n",
    "    qc      = (nclust/(nclust-1))*(N/(N-K))\n",
    "    beta_SE = np.sqrt(np.diag(qc * vcov @ clust_cov_sum @ vcov))\n",
    "\n",
    "    return beta,beta_SE\n",
    "\n",
    "def test_beta(beta0, alpha, Y, D, F, C, clusters):\n",
    "    \n",
    "    # Test if beta is significant at 1-alpha level\n",
    "    beta,beta_SE = quick_ols(Y=(Y - D*beta0), X=F, C=C, clusters=clusters)\n",
    "    sig = int(abs(beta[0]/beta_SE[0]) > norm.ppf(1.-(alpha/2.)))\n",
    "    \n",
    "    return sig\n",
    "\n",
    "def get_AR_CI(testgrid, alpha, Y, D, F, C, clusters):\n",
    "    \n",
    "    # Loop over testgrid of possible betas and test\n",
    "    testres  = np.zeros(testgrid.shape[0])\n",
    "    for i,beta0 in enumerate(testgrid):\n",
    "        testres[i] = test_beta(beta0, alpha, Y, D, F, C, clusters)\n",
    "        \n",
    "    # Return betas for which test was not rejected\n",
    "    ar_ci = testgrid[testres == 0]\n",
    "    return ar_ci"
   ]
  },
  {
   "cell_type": "code",
   "execution_count": 13,
   "metadata": {},
   "outputs": [
    {
     "name": "stdout",
     "output_type": "stream",
     "text": [
      "AR Confidence Interval: [-2.8579, -1.7067] (width = 1.1512)\n"
     ]
    }
   ],
   "source": [
    "# Define matrices of data as in slides\n",
    "Y = df[yvar].to_numpy()[:,None]\n",
    "D = df[endogvar].to_numpy()[:,None]\n",
    "F = df[[instrument]+xvars[1:]].to_numpy()\n",
    "C = df[clustervar].to_numpy()[:,None]\n",
    "\n",
    "# Get AR confidence interval at 95% level\n",
    "AR_CI    = get_AR_CI(testgrid=np.linspace(-5, 5, 1000), \n",
    "                     alpha=0.05, Y=Y, D=D, F=F, C=C, \n",
    "                     clusters=np.sort(df[clustervar].unique()))\n",
    "AR_CImin = np.min(AR_CI)\n",
    "AR_CImax = np.max(AR_CI)\n",
    "print(f\"AR Confidence Interval: [{np.round(AR_CImin,4)}, {np.round(AR_CImax,4)}] (width = {np.round(AR_CImax-AR_CImin,4)})\")"
   ]
  },
  {
   "cell_type": "code",
   "execution_count": 14,
   "metadata": {},
   "outputs": [
    {
     "name": "stdout",
     "output_type": "stream",
     "text": [
      "Normal Confidence Interval: [-2.8481, -1.7119] (width = 1.1362)\n"
     ]
    }
   ],
   "source": [
    "norm_CImin = -2.28-1.959*0.29\n",
    "norm_CImax = -2.28+1.959*0.29\n",
    "print(f\"Normal Confidence Interval: [{np.round(norm_CImin,4)}, {np.round(norm_CImax,4)}] (width = {np.round(norm_CImax-norm_CImin,4)})\")"
   ]
  },
  {
   "cell_type": "markdown",
   "metadata": {},
   "source": [
    "# Q1(e) - Different Controls"
   ]
  },
  {
   "cell_type": "markdown",
   "metadata": {},
   "source": [
    "### Exclude All Controls (including Willingness to Pay)"
   ]
  },
  {
   "cell_type": "code",
   "execution_count": 15,
   "metadata": {
    "scrolled": false
   },
   "outputs": [
    {
     "name": "stdout",
     "output_type": "stream",
     "text": [
      "Table 2, Column 2:\n",
      "\tEstimate on price_USD: -0.0267 (0.0016)\n",
      "Table 2, Column 3:\n",
      "\tEstimate on jikokoa: -2.0172 (0.403)\n"
     ]
    }
   ],
   "source": [
    "simple_xvars_iv = ['jikokoa','_const']\n",
    "simple_xvars_fs = ['price_USD','_const']\n",
    "\n",
    "# First-stage regression (column 2 of Table 2)\n",
    "beta_fssimple,beta_SE_fssimple = run_ols_reg(df_fs, endogvar, simple_xvars_fs, clustervar)\n",
    "\n",
    "# 2SLS regression (column 3 of Table 2)\n",
    "beta_ivsimple,beta_SE_ivsimple = run_iv_reg(df, yvar, simple_xvars_iv, clustervar, instrument)\n",
    "\n",
    "# Print results\n",
    "print(\"Table 2, Column 2:\")\n",
    "for i in range(1):\n",
    "    print(f\"\\tEstimate on {simple_xvars_fs[i]}: {np.round(beta_fssimple[i],4)} ({np.round(beta_SE_fssimple[i],4)})\")\n",
    "print(\"Table 2, Column 3:\")\n",
    "for i in range(1):\n",
    "    print(f\"\\tEstimate on {simple_xvars_iv[i]}: {np.round(beta_ivsimple[i],4)} ({np.round(beta_SE_ivsimple[i],4)})\")"
   ]
  },
  {
   "cell_type": "markdown",
   "metadata": {},
   "source": [
    "### Exclude All Controls (except Willingness to Pay)"
   ]
  },
  {
   "cell_type": "code",
   "execution_count": 16,
   "metadata": {},
   "outputs": [
    {
     "name": "stdout",
     "output_type": "stream",
     "text": [
      "Table 2, Column 2:\n",
      "\tEstimate on price_USD: -0.0287 (0.0012)\n",
      "\tEstimate on finwtp_USD: 0.0265 (0.0008)\n",
      "Table 2, Column 3:\n",
      "\tEstimate on jikokoa: -2.0109 (0.3683)\n",
      "\tEstimate on finwtp_USD: 0.0023 (0.0122)\n"
     ]
    }
   ],
   "source": [
    "simple_xvars_iv = ['jikokoa','finwtp_USD','_const']\n",
    "simple_xvars_fs = ['price_USD','finwtp_USD','_const']\n",
    "\n",
    "# First-stage regression (column 2 of Table 2)\n",
    "beta_fssimple,beta_SE_fssimple = run_ols_reg(df_fs, endogvar, simple_xvars_fs, clustervar)\n",
    "\n",
    "# 2SLS regression (column 3 of Table 2)\n",
    "beta_ivsimple,beta_SE_ivsimple = run_iv_reg(df, yvar, simple_xvars_iv, clustervar, instrument)\n",
    "\n",
    "# Print results\n",
    "print(\"Table 2, Column 2:\")\n",
    "for i in range(2):\n",
    "    print(f\"\\tEstimate on {simple_xvars_fs[i]}: {np.round(beta_fssimple[i],4)} ({np.round(beta_SE_fssimple[i],4)})\")\n",
    "print(\"Table 2, Column 3:\")\n",
    "for i in range(2):\n",
    "    print(f\"\\tEstimate on {simple_xvars_iv[i]}: {np.round(beta_ivsimple[i],4)} ({np.round(beta_SE_ivsimple[i],4)})\")"
   ]
  },
  {
   "cell_type": "markdown",
   "metadata": {},
   "source": [
    "# Q1(f) - Estimate and Plot Propensity Scores"
   ]
  },
  {
   "cell_type": "code",
   "execution_count": 17,
   "metadata": {},
   "outputs": [],
   "source": [
    "# Get matrices for logistic regression\n",
    "xvars_prop = ['price_USD','_const']\n",
    "Xlogit = df[xvars_prop].to_numpy()\n",
    "Ylogit = df[endogvar].to_numpy()[:,None]"
   ]
  },
  {
   "cell_type": "code",
   "execution_count": 18,
   "metadata": {},
   "outputs": [],
   "source": [
    "def logistic_log_likelihood(beta, Xlogit, Ylogit):\n",
    "    return -np.sum(Ylogit*(Xlogit @ beta[:,None]) + np.log((1.0 / ( 1.0 + np.exp(Xlogit @ beta[:,None])))))\n",
    "\n",
    "def logistic_gradient(beta, Xlogit, Ylogit):\n",
    "    p = 1.0 / ( 1.0 + np.exp(- Xlogit @ beta[:,None]))\n",
    "    return -(Xlogit.T @ (Ylogit-p)).ravel()\n",
    "\n",
    "# Optimize logistic regression and get propensity scores\n",
    "res = scipy.optimize.minimize(logistic_log_likelihood, x0=np.zeros(Xlogit.shape[1]), \n",
    "                              args=(Xlogit,Ylogit), method='BFGS', jac=logistic_gradient)\n",
    "betalogit  = res.x\n",
    "propscores = 1.0/(1.0 + np.exp(-(Xlogit @ betalogit[:,None])))\n",
    "df['propscores'] = propscores"
   ]
  },
  {
   "cell_type": "code",
   "execution_count": 19,
   "metadata": {},
   "outputs": [
    {
     "data": {
      "image/png": "[encoded data removed]",
      "text/plain": [
       "<Figure size 648x432 with 1 Axes>"
      ]
     },
     "metadata": {
      "needs_background": "light"
     },
     "output_type": "display_data"
    }
   ],
   "source": [
    "# Formatting stuff\n",
    "fig,ax = plt.subplots(figsize=(9,6))\n",
    "ax.spines['top'].set_visible(False)\n",
    "ax.spines['right'].set_visible(False)\n",
    "\n",
    "# Do plotting\n",
    "df.sort_values('price_USD', inplace=True)\n",
    "ax.plot(df['price_USD'], df['propscores'], linewidth=4, alpha=0.5)\n",
    "ax.scatter(df['price_USD'], df['propscores'], s=50)\n",
    "\n",
    "# Axis formatting\n",
    "ax.tick_params(axis='both', which='major', labelsize=13)\n",
    "ax.set_yticks(np.arange(0.0,1.1,0.1))\n",
    "ax.set_xlabel(\"BDM Price\", size=16)\n",
    "ax.set_ylabel(\"Propensity Score\", size=16)\n",
    "\n",
    "ax.set_title(f\"Propensity Score Estimate From BDM Price\", size=20)\n",
    "plt.savefig(f\"./q1_output/q1f_propscores.png\")\n",
    "plt.show()"
   ]
  },
  {
   "cell_type": "markdown",
   "metadata": {},
   "source": [
    "# Q1(i) - Parametric MTE Estimator (Roy Model)"
   ]
  },
  {
   "cell_type": "markdown",
   "metadata": {},
   "source": [
    "### Helper Functions"
   ]
  },
  {
   "cell_type": "code",
   "execution_count": 20,
   "metadata": {},
   "outputs": [],
   "source": [
    "def probit_log_likelihood(beta, W, D):\n",
    "    t  = np.longdouble(norm.cdf(W @ beta[:,None]))\n",
    "    t  = np.where(t == 0.0, np.longdouble(1e-15), np.longdouble(t))\n",
    "    t  = np.where(t == 1.0, np.longdouble(1.0)-np.longdouble(1e-15), np.longdouble(t))\n",
    "    ll = np.sum(D*np.log(t) + (1.0-D)*np.log(np.longdouble(1.0)-t))\n",
    "    return -ll\n",
    "\n",
    "def inv_mills(u):\n",
    "    num   = norm.pdf(u)\n",
    "    denom = norm.cdf(u)\n",
    "    return np.where(denom == 0.0, 1e200, num/denom)\n",
    "\n",
    "def get_MTE_at_u(u, beta1, beta0, X):\n",
    "    return np.mean(X @ (beta1[:-1]-beta0[:-1])[:,None] + (beta1[-1]-beta0[-1])*norm.ppf(u))\n",
    "\n",
    "def get_MTE_curve(regdf, yvar, controlvars, endogvar, instrument, clustervar):\n",
    "\n",
    "    # Make regression matrices\n",
    "    df= regdf.copy()\n",
    "    X = df[controlvars].to_numpy()\n",
    "    W = df[controlvars+[instrument]].to_numpy()\n",
    "    D = df[endogvar].to_numpy()[:,None]\n",
    "    Y = df[yvar].to_numpy()[:,None]\n",
    "    \n",
    "    # Fit probit regression\n",
    "    res = scipy.optimize.minimize(probit_log_likelihood, x0=np.zeros(W.shape[1]), \n",
    "                                  args=(W,D), method='BFGS')\n",
    "    gamma = res.x\n",
    "\n",
    "    # Save propensity scores and inverse mills ratios\n",
    "    Wgamma       = W @ gamma[:,None]\n",
    "    propscores   = norm.cdf(Wgamma)\n",
    "    invmills     = inv_mills(Wgamma)\n",
    "    neg_invmills = inv_mills(-Wgamma)\n",
    "\n",
    "    # Do regressions separately for D=0 and D=1, with mills ratios\n",
    "    D1subset = (df[endogvar] == 1.).to_numpy()\n",
    "    D0subset = (df[endogvar] == 0.).to_numpy()\n",
    "    X1 = np.hstack((X[D1subset,:], invmills[D1subset]))\n",
    "    X0 = np.hstack((X[D0subset,:], invmills[D0subset]))\n",
    "    beta1 = (np.linalg.pinv(X1.T @ X1) @ X1.T @ Y[D1subset]).ravel()\n",
    "    beta0 = (np.linalg.pinv(X0.T @ X0) @ X0.T @ Y[D0subset]).ravel()\n",
    "    \n",
    "    # Get MTE curve and return it\n",
    "    urange = np.arange(0.01,1.00,0.01)\n",
    "    MTEs   = np.zeros(urange.shape[0])\n",
    "    for i,u in enumerate(urange):\n",
    "        MTEs[i] = get_MTE_at_u(u, beta1, beta0, X)\n",
    "    return MTEs\n",
    "\n",
    "def get_bootstrap_MTEs(Nboots, MTEs, df, yvar, controlvars, endogvar, instrument, clustervar):\n",
    "    bootMTEs = np.zeros((Nboots, MTEs.shape[0]))\n",
    "    for i in range(Nboots):\n",
    "        currdf = df.sample(n=df.shape[0], replace=True)\n",
    "        bootMTEs[i,:] = get_MTE_curve(currdf, yvar, controlvars, endogvar, instrument, clustervar)\n",
    "        if (i+1) % 20 == 0:\n",
    "            print(f\"Finished {i+1} bootstraps\")\n",
    "    return bootMTEs"
   ]
  },
  {
   "cell_type": "markdown",
   "metadata": {},
   "source": [
    "### MTE Curve Estimation"
   ]
  },
  {
   "cell_type": "code",
   "execution_count": 21,
   "metadata": {},
   "outputs": [
    {
     "name": "stdout",
     "output_type": "stream",
     "text": [
      "Finished 20 bootstraps\n",
      "Finished 40 bootstraps\n",
      "Finished 60 bootstraps\n",
      "Finished 80 bootstraps\n",
      "Finished 100 bootstraps\n",
      "Finished 120 bootstraps\n",
      "Finished 140 bootstraps\n",
      "Finished 160 bootstraps\n",
      "Finished 180 bootstraps\n",
      "Finished 200 bootstraps\n"
     ]
    }
   ],
   "source": [
    "# Parameters for MTE estimation\n",
    "controlvars = ['_const','finwtp_USD','price_USD']\n",
    "urange      = np.arange(0.01,1.00,0.01)\n",
    "\n",
    "# Get MTEs for this case and bootstrapped MTEs\n",
    "MTEs     = get_MTE_curve(df, yvar, controlvars, endogvar, instrument, clustervar)\n",
    "bootMTEs = get_bootstrap_MTEs(200, MTEs, df, yvar, controlvars, endogvar, instrument, clustervar)\n",
    "\n",
    "# Get confidence intervals of MTE curves\n",
    "upper = np.quantile(bootMTEs,0.975,axis=0)\n",
    "lower = np.quantile(bootMTEs,0.025,axis=0)"
   ]
  },
  {
   "cell_type": "code",
   "execution_count": 22,
   "metadata": {},
   "outputs": [
    {
     "data": {
      "image/png": "[encoded data removed]",
      "text/plain": [
       "<Figure size 648x432 with 1 Axes>"
      ]
     },
     "metadata": {
      "needs_background": "light"
     },
     "output_type": "display_data"
    }
   ],
   "source": [
    "# Plot results\n",
    "plt.show()\n",
    "\n",
    "# Formatting stuff\n",
    "fig,ax = plt.subplots(figsize=(9,6))\n",
    "ax.spines['top'].set_visible(False)\n",
    "ax.spines['right'].set_visible(False)\n",
    "\n",
    "# Do plotting\n",
    "ax.plot(urange, MTEs, color='black', linewidth=3, label='MTE Estimate')\n",
    "ax.plot(urange, upper, color='red', linestyle='dashed', alpha=0.9, label='95% Confidence Interval')\n",
    "ax.plot(urange, lower, color='red', linestyle='dashed', alpha=0.9)\n",
    "\n",
    "# Axis formatting\n",
    "ax.tick_params(axis='both', which='major', labelsize=13)\n",
    "ax.set_xlabel(\"u\", size=16)\n",
    "ax.set_ylabel(\"Marginal Treatment Effect (USD)\", size=16)\n",
    "ax.grid(axis='y')\n",
    "\n",
    "# Legend\n",
    "ax.legend(fontsize=12)\n",
    "\n",
    "ax.set_title(f\"MTE Estimates of Jikokoa Cookstove on Charcoal Spending\", size=20)\n",
    "plt.savefig(f\"./q1_output/q1i_mte.png\")\n",
    "plt.show()"
   ]
  },
  {
   "cell_type": "markdown",
   "metadata": {},
   "source": [
    "### ATE Estimation"
   ]
  },
  {
   "cell_type": "code",
   "execution_count": 23,
   "metadata": {},
   "outputs": [
    {
     "name": "stdout",
     "output_type": "stream",
     "text": [
      "ATE Estimate: -2.397, 95% Confidence Interval: (-1.919,-2.89)\n"
     ]
    }
   ],
   "source": [
    "ATE       = np.mean(MTEs)\n",
    "bootATEs  = np.mean(bootMTEs,axis=0)\n",
    "upper_ATE = np.quantile(bootATEs,0.025)\n",
    "lower_ATE = np.quantile(bootATEs,0.975)\n",
    "print(f\"ATE Estimate: {np.round(ATE,3)}, 95% Confidence Interval: ({np.round(lower_ATE,3)},{np.round(upper_ATE,3)})\")"
   ]
  },
  {
   "cell_type": "markdown",
   "metadata": {},
   "source": [
    "### ATT and ATU Estimation"
   ]
  },
  {
   "cell_type": "code",
   "execution_count": 24,
   "metadata": {},
   "outputs": [
    {
     "name": "stdout",
     "output_type": "stream",
     "text": [
      "ATT Estimate: -2.271, 95% Confidence Interval: (-1.922,-2.655)\n",
      "ATU Estimate: -2.597, 95% Confidence Interval: (-2.066,-3.14)\n"
     ]
    }
   ],
   "source": [
    "# Calculate weights \n",
    "weight_att = np.array([(propscores.ravel() >= u).mean() for u in urange]) / df[endogvar].mean()\n",
    "weight_atu = np.array([(propscores.ravel() <  u).mean() for u in urange]) / (1.-df[endogvar].mean())\n",
    "\n",
    "# Get parameters as weighted average of MTEs\n",
    "ATT = np.average(MTEs, weights=weight_att)\n",
    "ATU = np.average(MTEs, weights=weight_atu)\n",
    "\n",
    "# Get confidence intervals from bootstraps\n",
    "bootATTs = np.average(bootMTEs,weights=weight_att,axis=1)\n",
    "bootATUs = np.average(bootMTEs,weights=weight_atu,axis=1)\n",
    "upper_ATT = np.quantile(bootATTs,0.025)\n",
    "lower_ATT = np.quantile(bootATTs,0.975)\n",
    "upper_ATU = np.quantile(bootATUs,0.025)\n",
    "lower_ATU = np.quantile(bootATUs,0.975)\n",
    "\n",
    "# Print results\n",
    "print(f\"ATT Estimate: {np.round(ATT,3)}, 95% Confidence Interval: ({np.round(lower_ATT,3)},{np.round(upper_ATT,3)})\")\n",
    "print(f\"ATU Estimate: {np.round(ATU,3)}, 95% Confidence Interval: ({np.round(lower_ATU,3)},{np.round(upper_ATU,3)})\")"
   ]
  },
  {
   "cell_type": "markdown",
   "metadata": {},
   "source": [
    "# Q1(j) - Alternative Approach"
   ]
  },
  {
   "cell_type": "markdown",
   "metadata": {},
   "source": [
    "### Characterize Problem"
   ]
  },
  {
   "cell_type": "code",
   "execution_count": 25,
   "metadata": {},
   "outputs": [
    {
     "name": "stdout",
     "output_type": "stream",
     "text": [
      "Number of Violations in First Stage Data: 8.0 (0.8762322015334063% of total 913)\n"
     ]
    },
    {
     "data": {
      "text/html": [
       "<div>\n",
       "<style scoped>\n",
       "    .dataframe tbody tr th:only-of-type {\n",
       "        vertical-align: middle;\n",
       "    }\n",
       "\n",
       "    .dataframe tbody tr th {\n",
       "        vertical-align: top;\n",
       "    }\n",
       "\n",
       "    .dataframe thead th {\n",
       "        text-align: right;\n",
       "    }\n",
       "</style>\n",
       "<table border=\"1\" class=\"dataframe\">\n",
       "  <thead>\n",
       "    <tr style=\"text-align: right;\">\n",
       "      <th></th>\n",
       "      <th>price_USD</th>\n",
       "      <th>finwtp_USD</th>\n",
       "      <th>jikokoa</th>\n",
       "      <th>should_buy</th>\n",
       "      <th>violation</th>\n",
       "    </tr>\n",
       "  </thead>\n",
       "  <tbody>\n",
       "    <tr>\n",
       "      <th>166</th>\n",
       "      <td>25.06</td>\n",
       "      <td>30.00</td>\n",
       "      <td>0.0</td>\n",
       "      <td>1.0</td>\n",
       "      <td>1.0</td>\n",
       "    </tr>\n",
       "    <tr>\n",
       "      <th>238</th>\n",
       "      <td>25.74</td>\n",
       "      <td>27.74</td>\n",
       "      <td>0.0</td>\n",
       "      <td>1.0</td>\n",
       "      <td>1.0</td>\n",
       "    </tr>\n",
       "    <tr>\n",
       "      <th>495</th>\n",
       "      <td>10.49</td>\n",
       "      <td>12.50</td>\n",
       "      <td>0.0</td>\n",
       "      <td>1.0</td>\n",
       "      <td>1.0</td>\n",
       "    </tr>\n",
       "    <tr>\n",
       "      <th>655</th>\n",
       "      <td>25.64</td>\n",
       "      <td>37.50</td>\n",
       "      <td>0.0</td>\n",
       "      <td>1.0</td>\n",
       "      <td>1.0</td>\n",
       "    </tr>\n",
       "    <tr>\n",
       "      <th>727</th>\n",
       "      <td>26.35</td>\n",
       "      <td>30.00</td>\n",
       "      <td>0.0</td>\n",
       "      <td>1.0</td>\n",
       "      <td>1.0</td>\n",
       "    </tr>\n",
       "    <tr>\n",
       "      <th>803</th>\n",
       "      <td>25.69</td>\n",
       "      <td>28.70</td>\n",
       "      <td>0.0</td>\n",
       "      <td>1.0</td>\n",
       "      <td>1.0</td>\n",
       "    </tr>\n",
       "    <tr>\n",
       "      <th>888</th>\n",
       "      <td>25.27</td>\n",
       "      <td>30.00</td>\n",
       "      <td>0.0</td>\n",
       "      <td>1.0</td>\n",
       "      <td>1.0</td>\n",
       "    </tr>\n",
       "    <tr>\n",
       "      <th>923</th>\n",
       "      <td>25.94</td>\n",
       "      <td>37.50</td>\n",
       "      <td>0.0</td>\n",
       "      <td>1.0</td>\n",
       "      <td>1.0</td>\n",
       "    </tr>\n",
       "  </tbody>\n",
       "</table>\n",
       "</div>"
      ],
      "text/plain": [
       "     price_USD  finwtp_USD  jikokoa  should_buy  violation\n",
       "166      25.06       30.00      0.0         1.0        1.0\n",
       "238      25.74       27.74      0.0         1.0        1.0\n",
       "495      10.49       12.50      0.0         1.0        1.0\n",
       "655      25.64       37.50      0.0         1.0        1.0\n",
       "727      26.35       30.00      0.0         1.0        1.0\n",
       "803      25.69       28.70      0.0         1.0        1.0\n",
       "888      25.27       30.00      0.0         1.0        1.0\n",
       "923      25.94       37.50      0.0         1.0        1.0"
      ]
     },
     "execution_count": 25,
     "metadata": {},
     "output_type": "execute_result"
    }
   ],
   "source": [
    "df_fs['should_buy'] = (df_fs.price_USD <= df_fs.finwtp_USD).astype(float)\n",
    "df_fs['violation']  = (df_fs.should_buy != df_fs.jikokoa).astype(float)\n",
    "num_violations      = df_fs.violation.sum()\n",
    "\n",
    "print(f\"Number of Violations in First Stage Data: {num_violations} ({num_violations/df_fs.shape[0]*100}% of total {df_fs.shape[0]})\")\n",
    "df_fs[df_fs.violation == 1][['price_USD','finwtp_USD','jikokoa','should_buy','violation']]"
   ]
  },
  {
   "cell_type": "code",
   "execution_count": 26,
   "metadata": {},
   "outputs": [
    {
     "name": "stdout",
     "output_type": "stream",
     "text": [
      "Number of Violations in SMS Data: 60.0 (0.7640392206799949% of total 7853)\n"
     ]
    }
   ],
   "source": [
    "df['should_buy'] = (df.price_USD <= df.finwtp_USD).astype(float)\n",
    "df['violation']  = (df.should_buy != df.jikokoa).astype(float)\n",
    "num_violations      = df.violation.sum()\n",
    "\n",
    "print(f\"Number of Violations in SMS Data: {num_violations} ({num_violations/df.shape[0]*100}% of total {df.shape[0]})\")"
   ]
  }
 ],
 "metadata": {
  "kernelspec": {
   "display_name": "Python 3",
   "language": "python",
   "name": "python3"
  },
  "language_info": {
   "codemirror_mode": {
    "name": "ipython",
    "version": 3
   },
   "file_extension": ".py",
   "mimetype": "text/x-python",
   "name": "python",
   "nbconvert_exporter": "python",
   "pygments_lexer": "ipython3",
   "version": "3.8.5"
  }
 },
 "nbformat": 4,
 "nbformat_minor": 4
}
